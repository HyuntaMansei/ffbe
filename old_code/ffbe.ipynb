{
 "cells": [
  {
   "cell_type": "code",
   "execution_count": 1,
   "metadata": {},
   "outputs": [
    {
     "name": "stdout",
     "output_type": "stream",
     "text": [
      "[<ppadb.device.Device object at 0x000002C86E9A97D0>, <ppadb.device.Device object at 0x000002C86F051590>, <ppadb.device.Device object at 0x000002C86E967F10>, <ppadb.device.Device object at 0x000002C86E967DD0>]\n",
      "[<ppadb.device.Device object at 0x000002C860287A90>, <ppadb.device.Device object at 0x000002C86E967DD0>, <ppadb.device.Device object at 0x000002C86F0DA1D0>, <ppadb.device.Device object at 0x000002C86F0DA410>]\n"
     ]
    }
   ],
   "source": [
    "import win32gui\n",
    "import win32con\n",
    "import time\n",
    "import locator\n",
    "import importlib\n",
    "import ffbe_automator\n",
    "importlib.reload(ffbe_automator)\n",
    "importlib.reload(locator)\n",
    "\n",
    "from ppadb.client import Client as AdbClient\n",
    "#first one=62001\n",
    "#second one=62025\n",
    "my_client = AdbClient()\n",
    "print(my_client.devices())\n",
    "my_device = my_client.devices()\n",
    "print(my_device)\n",
    "# my_hwnd = win32gui.FindWindow(None, \"facebook\")\n",
    "# my_hwnd = win32gui.FindWindow(None, \"SM-N950N\")\n",
    "# my_hwnd = win32gui.FindWindow(None, \"hyuntamansei\")\n",
    "# print(my_hwnd)"
   ]
  },
  {
   "cell_type": "code",
   "execution_count": 2,
   "metadata": {},
   "outputs": [
    {
     "name": "stdout",
     "output_type": "stream",
     "text": [
      "scrcpy.exe\n",
      "None\n"
     ]
    }
   ],
   "source": [
    "import win32process\n",
    "import psutil\n",
    "\n",
    "def get_process_name_by_window_name(window_name):\n",
    "    hwnd = win32gui.FindWindow(None, window_name)\n",
    "    if hwnd:\n",
    "        _, pid = win32process.GetWindowThreadProcessId(hwnd)\n",
    "        process = psutil.Process(pid)\n",
    "        return process.name()\n",
    "    else:\n",
    "        return None\n",
    "print(get_process_name_by_window_name(\"SM-G950N\"))\n",
    "print(get_process_name_by_window_name(\"hyuntamansei\"))"
   ]
  },
  {
   "cell_type": "code",
   "execution_count": 3,
   "metadata": {},
   "outputs": [
    {
     "name": "stdout",
     "output_type": "stream",
     "text": [
      "HD-Player.exe\n",
      "134184\n"
     ]
    }
   ],
   "source": [
    "# find window hwnd using process name\n",
    "def get_hwnd_by_process_name(process_name):\n",
    "    hwnd_found = []\n",
    "\n",
    "    def enum_windows_callback(hwnd, lparam):\n",
    "        nonlocal hwnd_found\n",
    "        _, pid = win32process.GetWindowThreadProcessId(hwnd)\n",
    "        try:\n",
    "            process = psutil.Process(pid)\n",
    "            if process_name.lower() == process.name().lower():\n",
    "                if win32gui.IsWindowVisible(hwnd):\n",
    "                    hwnd_found.append(hwnd)\n",
    "                    print(process_name)\n",
    "        except psutil.NoSuchProcess:\n",
    "            pass\n",
    "    win32gui.EnumWindows(enum_windows_callback, None)\n",
    "    return hwnd_found\n",
    "my_hwnd = get_hwnd_by_process_name(\"HD-Player.exe\")[0]\n",
    "print(my_hwnd)"
   ]
  },
  {
   "cell_type": "code",
   "execution_count": null,
   "metadata": {},
   "outputs": [],
   "source": []
  },
  {
   "cell_type": "code",
   "execution_count": 4,
   "metadata": {},
   "outputs": [
    {
     "name": "stdout",
     "output_type": "stream",
     "text": [
      "(0, 0, 1320, 808)\n"
     ]
    }
   ],
   "source": [
    "# x1, y1, x2, y2 = (win32gui.GetWindowRect(my_hwnd))\n",
    "# print(x2-x1, y2-y1)\n",
    "print(win32gui.GetClientRect(my_hwnd))\n",
    "# 1280/786"
   ]
  },
  {
   "cell_type": "code",
   "execution_count": 5,
   "metadata": {},
   "outputs": [],
   "source": [
    "win32gui.SetWindowPos(my_hwnd, None, 0, 0, 1280, 720, 0)"
   ]
  },
  {
   "cell_type": "code",
   "execution_count": 6,
   "metadata": {},
   "outputs": [
    {
     "name": "stdout",
     "output_type": "stream",
     "text": [
      "(0, 0, 1280, 786)\n"
     ]
    }
   ],
   "source": [
    "import win32gui\n",
    "\n",
    "def set_window_size(hwnd, width, height):\n",
    "    # Get the current window position\n",
    "    _, _, x, y = win32gui.GetWindowRect(hwnd)\n",
    "\n",
    "    # Set the new window size\n",
    "    flags = win32con.SWP_NOMOVE | win32con.SWP_NOZORDER\n",
    "    win32gui.SetWindowPos(hwnd, 0, x, y, width, height, win32con.SWP_NOMOVE)\n",
    "\n",
    "# Example usage:\n",
    "window_handle_to_resize = my_hwnd  # Replace this with the actual hwnd of the window you want to resize\n",
    "new_width = 1280\n",
    "new_height = 786\n",
    "\n",
    "set_window_size(window_handle_to_resize, new_width, new_height)\n",
    "print(win32gui.GetClientRect(my_hwnd))"
   ]
  },
  {
   "cell_type": "code",
   "execution_count": 7,
   "metadata": {},
   "outputs": [],
   "source": [
    "import ctypes\n",
    "\n",
    "def set_window_size(hwnd, width, height):\n",
    "    # Set the window size using Windows API\n",
    "    user32 = ctypes.windll.user32\n",
    "    user32.SetWindowPos(hwnd, 0, 0, 0, width, height, 0x0002)  # 0x0002 is SWP_NOMOVE flag\n",
    "\n",
    "# Example usage (Windows):\n",
    "import win32gui\n",
    "\n",
    "window_handle_to_resize = my_hwnd  # Replace this with the actual hwnd of the window you want to resize\n",
    "new_width = 1280\n",
    "new_height = 786\n",
    "\n",
    "set_window_size(window_handle_to_resize, new_width, new_height)"
   ]
  },
  {
   "cell_type": "code",
   "execution_count": 8,
   "metadata": {},
   "outputs": [
    {
     "name": "stdout",
     "output_type": "stream",
     "text": [
      "0\n",
      "(0, 0, 1270, 780)\n",
      "./\\test.png\n",
      "None\n",
      "1\n",
      "(0, 0, 1272, 782)\n",
      "./\\test.png\n",
      "None\n",
      "2\n",
      "(0, 0, 1272, 782)\n",
      "./\\test.png\n",
      "None\n",
      "3\n",
      "(0, 0, 1274, 782)\n",
      "./\\test.png\n",
      "None\n",
      "4\n",
      "(0, 0, 1274, 782)\n",
      "./\\test.png\n",
      "None\n",
      "5\n",
      "(0, 0, 1276, 784)\n",
      "./\\test.png\n"
     ]
    },
    {
     "name": "stdout",
     "output_type": "stream",
     "text": [
      "None\n",
      "6\n",
      "(0, 0, 1276, 784)\n",
      "./\\test.png\n",
      "None\n",
      "7\n",
      "(0, 0, 1278, 784)\n",
      "./\\test.png\n"
     ]
    }
   ],
   "source": [
    "import pyautogui\n",
    "\n",
    "for i in range(50):\n",
    "    print(i)\n",
    "    new_width = 1270+i\n",
    "    new_height = 710+i\n",
    "\n",
    "    set_window_size(my_hwnd, new_width, new_height)\n",
    "    print(win32gui.GetClientRect(my_hwnd))\n",
    "\n",
    "    # base_path = r'C:\\Users\\jchoi\\Coding\\python\\ffbe\\1280_720\\images'\n",
    "    base_path = \"./\"\n",
    "    image_name = 'test'\n",
    "    image_path = base_path+'\\\\'+image_name+r\".png\"\n",
    "    print(image_path)\n",
    "    res = pyautogui.locateCenterOnScreen(image_path)\n",
    "    print(res)\n",
    "    if res:\n",
    "        break"
   ]
  },
  {
   "cell_type": "code",
   "execution_count": 2,
   "metadata": {},
   "outputs": [
    {
     "ename": "RuntimeError",
     "evalue": "ERROR: '' ",
     "output_type": "error",
     "traceback": [
      "\u001b[1;31m---------------------------------------------------------------------------\u001b[0m",
      "\u001b[1;31mRuntimeError\u001b[0m                              Traceback (most recent call last)",
      "Cell \u001b[1;32mIn[2], line 5\u001b[0m\n\u001b[0;32m      3\u001b[0m adb \u001b[39m=\u001b[39m AdbClient(host\u001b[39m=\u001b[39m\u001b[39m\"\u001b[39m\u001b[39m127.0.0.1\u001b[39m\u001b[39m\"\u001b[39m, port\u001b[39m=\u001b[39m\u001b[39m58422\u001b[39m)\n\u001b[0;32m      4\u001b[0m \u001b[39m# Get the device list\u001b[39;00m\n\u001b[1;32m----> 5\u001b[0m devices \u001b[39m=\u001b[39m adb\u001b[39m.\u001b[39;49mdevices()\n\u001b[0;32m      6\u001b[0m \u001b[39mprint\u001b[39m(devices)\n",
      "File \u001b[1;32mc:\\Users\\jchoi\\anaconda3\\envs\\py311\\Lib\\site-packages\\ppadb\\command\\host\\__init__.py:23\u001b[0m, in \u001b[0;36mHost.devices\u001b[1;34m(self, state)\u001b[0m\n\u001b[0;32m     21\u001b[0m \u001b[39mdef\u001b[39;00m \u001b[39mdevices\u001b[39m(\u001b[39mself\u001b[39m, state\u001b[39m=\u001b[39m\u001b[39mNone\u001b[39;00m):\n\u001b[0;32m     22\u001b[0m     cmd \u001b[39m=\u001b[39m \u001b[39m\"\u001b[39m\u001b[39mhost:devices\u001b[39m\u001b[39m\"\u001b[39m\n\u001b[1;32m---> 23\u001b[0m     result \u001b[39m=\u001b[39m \u001b[39mself\u001b[39;49m\u001b[39m.\u001b[39;49m_execute_cmd(cmd)\n\u001b[0;32m     25\u001b[0m     devices \u001b[39m=\u001b[39m []\n\u001b[0;32m     27\u001b[0m     \u001b[39mfor\u001b[39;00m line \u001b[39min\u001b[39;00m result\u001b[39m.\u001b[39msplit(\u001b[39m'\u001b[39m\u001b[39m\\n\u001b[39;00m\u001b[39m'\u001b[39m):\n",
      "File \u001b[1;32mc:\\Users\\jchoi\\anaconda3\\envs\\py311\\Lib\\site-packages\\ppadb\\command\\host\\__init__.py:14\u001b[0m, in \u001b[0;36mHost._execute_cmd\u001b[1;34m(self, cmd, with_response)\u001b[0m\n\u001b[0;32m     12\u001b[0m \u001b[39mdef\u001b[39;00m \u001b[39m_execute_cmd\u001b[39m(\u001b[39mself\u001b[39m, cmd, with_response\u001b[39m=\u001b[39m\u001b[39mTrue\u001b[39;00m):\n\u001b[0;32m     13\u001b[0m     \u001b[39mwith\u001b[39;00m \u001b[39mself\u001b[39m\u001b[39m.\u001b[39mcreate_connection() \u001b[39mas\u001b[39;00m conn:\n\u001b[1;32m---> 14\u001b[0m         conn\u001b[39m.\u001b[39;49msend(cmd)\n\u001b[0;32m     15\u001b[0m         \u001b[39mif\u001b[39;00m with_response:\n\u001b[0;32m     16\u001b[0m             result \u001b[39m=\u001b[39m conn\u001b[39m.\u001b[39mreceive()\n",
      "File \u001b[1;32mc:\\Users\\jchoi\\anaconda3\\envs\\py311\\Lib\\site-packages\\ppadb\\connection.py:84\u001b[0m, in \u001b[0;36mConnection.send\u001b[1;34m(self, msg)\u001b[0m\n\u001b[0;32m     82\u001b[0m logger\u001b[39m.\u001b[39mdebug(msg)\n\u001b[0;32m     83\u001b[0m \u001b[39mself\u001b[39m\u001b[39m.\u001b[39m_send(msg)\n\u001b[1;32m---> 84\u001b[0m \u001b[39mreturn\u001b[39;00m \u001b[39mself\u001b[39;49m\u001b[39m.\u001b[39;49m_check_status()\n",
      "File \u001b[1;32mc:\\Users\\jchoi\\anaconda3\\envs\\py311\\Lib\\site-packages\\ppadb\\connection.py:90\u001b[0m, in \u001b[0;36mConnection._check_status\u001b[1;34m(self)\u001b[0m\n\u001b[0;32m     88\u001b[0m \u001b[39mif\u001b[39;00m recv \u001b[39m!=\u001b[39m Protocol\u001b[39m.\u001b[39mOKAY:\n\u001b[0;32m     89\u001b[0m     error \u001b[39m=\u001b[39m \u001b[39mself\u001b[39m\u001b[39m.\u001b[39m_recv(\u001b[39m1024\u001b[39m)\u001b[39m.\u001b[39mdecode(\u001b[39m'\u001b[39m\u001b[39mutf-8\u001b[39m\u001b[39m'\u001b[39m)\n\u001b[1;32m---> 90\u001b[0m     \u001b[39mraise\u001b[39;00m \u001b[39mRuntimeError\u001b[39;00m(\u001b[39m\"\u001b[39m\u001b[39mERROR: \u001b[39m\u001b[39m{}\u001b[39;00m\u001b[39m \u001b[39m\u001b[39m{}\u001b[39;00m\u001b[39m\"\u001b[39m\u001b[39m.\u001b[39mformat(\u001b[39mrepr\u001b[39m(recv), error))\n\u001b[0;32m     92\u001b[0m \u001b[39mreturn\u001b[39;00m \u001b[39mTrue\u001b[39;00m\n",
      "\u001b[1;31mRuntimeError\u001b[0m: ERROR: '' "
     ]
    }
   ],
   "source": [
    "from ppadb.client import Client as AdbClient\n",
    "# adb = AdbClient(host=\"127.0.0.1\", port=5037)\n",
    "adb = AdbClient(host=\"127.0.0.1\", port=58663)\n",
    "# Get the device list\n",
    "devices = adb.devices()\n",
    "print(devices)"
   ]
  },
  {
   "cell_type": "code",
   "execution_count": null,
   "metadata": {},
   "outputs": [],
   "source": [
    "# quest auto play\n",
    "import datetime\n",
    "# device_type = 'nox_1920_1080'\n",
    "# device_type = 'nox_1280_720'\n",
    "device_type = 'android'\n",
    "\n",
    "if device_type == 'nox_1920_1080':\n",
    "    my_locator = locator.Locator(my_hwnd, './1920_1080/quest/')\n",
    "    my_locator.load_conf('nox_1920_1080')\n",
    "elif device_type == 'nox_1280_720':\n",
    "    my_locator = locator.Locator(my_hwnd, './1280_720/quest/')\n",
    "    my_locator.load_conf('nox_1280_720')\n",
    "elif device_type == 'android':\n",
    "    my_locator = locator.Locator(my_hwnd, './1280_720/quest/')\n",
    "    my_locator.load_conf('android')\n",
    "else:\n",
    "    pass\n",
    "my_locator.confidence=0.85\n",
    "my_locator.connect_click_method(my_device.input_tap)\n",
    "\n",
    "for cnt in range(100):\n",
    "    #퀘스트 자동 진행\n",
    "    print(f\"Starting quest automain. {cnt} times completed.\")\n",
    "    while not my_locator.locate('sortie'):\n",
    "        my_locator.locate_and_click('select_chapter', xy='top_quest')\n",
    "    ##skip 하기 누르기\n",
    "    print(\"Before battle\")\n",
    "    while my_locator.locate('auto') == None:\n",
    "        my_locator.locate_and_click('sortie')\n",
    "        my_locator.click('story_skip1')\n",
    "        time.sleep(2)\n",
    "        my_locator.click('story_skip2')\n",
    "    print(\"In battle stage\")\n",
    "    start_time = time.time()\n",
    "    my_locator.locate('next', trial_number=600)\n",
    "    print(\"Mission complete\")\n",
    "    time.sleep(10)\n",
    "    elasped_time = time.time() - start_time\n",
    "    print(f\"elasped_time: {time.strftime('%M:%S', time.gmtime(elasped_time))}\")\n",
    "    print(\"Until end_of_quest\")\n",
    "    while my_locator.locate('end_of_quest') == None:\n",
    "        my_locator.locate_and_click('next')\n",
    "        my_locator.locate_and_click('close')\n",
    "        my_locator.locate_and_click('later')\n",
    "        my_locator.locate_and_click('no_evaluate')\n",
    "    time.sleep(2)\n",
    "    print(\"The quest ended\")\n",
    "    time.sleep(10)\n",
    "    count = 0\n",
    "    print(f\"after batlle, until 'select chapter', repeating, ... story skip, count={count}\")\n",
    "    while my_locator.locate('select_chapter', trial_number=2) == None:\n",
    "        my_locator.locate_and_click('end_of_quest')\n",
    "        my_locator.locate_and_click('ok')\n",
    "        my_locator.locate_and_click('later')\n",
    "        my_locator.locate_and_click('close')\n",
    "        if not my_locator.locate('select_chapter'):\n",
    "            my_locator.click('story_skip1')\n",
    "            time.sleep(1)\n",
    "        if not my_locator.locate('select_chapter'):\n",
    "            my_locator.click('story_skip3')\n",
    "        count += 1\n",
    "        my_locator.locate_and_click('story')"
   ]
  },
  {
   "cell_type": "code",
   "execution_count": null,
   "metadata": {},
   "outputs": [],
   "source": [
    "# multi auto play\n",
    "import datetime\n",
    "device_type = 'android'\n",
    "rep_time = 20\n",
    "num_of_players = 2\n",
    "before_battle_cnt_limit = 40 * num_of_players\n",
    "\n",
    "if device_type == 'nox_1920_1080':\n",
    "    my_locator = locator.Locator(my_hwnd, './1920_1080/multi/')\n",
    "    my_locator.load_conf('nox_1920_1080')\n",
    "elif device_type == 'nox_1280_720':\n",
    "    my_locator = locator.Locator(my_hwnd, './1280_720/multi/')\n",
    "    my_locator.load_conf('nox_1280_720')\n",
    "elif device_type == 'android':\n",
    "    my_locator = locator.Locator(my_hwnd, './1280_720/multi/')\n",
    "    my_locator.load_conf('android')\n",
    "else:\n",
    "    pass\n",
    "my_locator.confidence=0.95\n",
    "my_locator.connect_click_method(my_device.input_tap)\n",
    "\n",
    "print(\"Starting multi automation\")\n",
    "for cnt in range(rep_time):\n",
    "    print(f\"Before battle stage. completed: {cnt} times\")\n",
    "    before_battle_cnt = 0\n",
    "    print(\"Trial number of sortie: \", end='')\n",
    "    sortie_trial_cnt = 1\n",
    "    while not my_locator.locate('auto'):\n",
    "        sortie_cond = False\n",
    "        if num_of_players == 1:\n",
    "            sortie_cond = True\n",
    "        elif num_of_players == 2:\n",
    "            if not my_locator.locate('one_person'):\n",
    "                sortie_cond = True\n",
    "        elif num_of_players == 3:\n",
    "            if (my_locator.locate('three_people')) or (my_locator.locate('four_people')):\n",
    "                sortie_cond = True\n",
    "        elif num_of_players == 4:\n",
    "            if (my_locator.locate('four_people')):\n",
    "                sortie_cond = True\n",
    "        if sortie_cond:\n",
    "            print(f\"{sortie_trial_cnt},\", end='')\n",
    "            my_locator.locate_and_click('sortie')\n",
    "            sortie_trial_cnt += 1\n",
    "        my_locator.locate_and_click('sortie_confirm')\n",
    "        # my_locator.locate_and_click('not_auto')\n",
    "        # my_locator.locate_and_click('ok')\n",
    "        before_battle_cnt += 1\n",
    "        if before_battle_cnt > 10:\n",
    "             while my_locator.locate('checking_the_result'):\n",
    "                my_locator.locate_and_click('checking_the_result')\n",
    "                my_locator.locate_and_click('expel')\n",
    "        if before_battle_cnt > before_battle_cnt_limit:\n",
    "            print(\"Kicking all out!\")            \n",
    "            while(not my_locator.locate('one_person')):\n",
    "                my_locator.locate_and_click('kick_out')\n",
    "                my_locator.locate_and_click('expel')\n",
    "            before_battle_cnt = 0\n",
    "            sortie_trial_cnt\n",
    "    print(\"In battle stage\")\n",
    "    start_time = time.time()\n",
    "    # while not my_locator.locate('after_battle_next'):\n",
    "    while not my_locator.locate('next'):\n",
    "        my_locator.locate_and_click('ok')\n",
    "        my_locator.locate_and_click('give_up')\n",
    "        my_locator.locate_and_click('yes')\n",
    "        time.sleep(1)\n",
    "    # after battle stage\n",
    "    print(\"after battle stage\")\n",
    "    elasped_time = time.time() - start_time\n",
    "    print(f\"elasped_time: {time.strftime('%M:%S', time.gmtime(elasped_time))}\")\n",
    "    while not my_locator.locate('organize'):\n",
    "        my_locator.locate_and_click('next')\n",
    "        # my_locator.locate_and_click('ok')\n",
    "        my_locator.locate_and_click('cancel')\n",
    "        my_locator.locate_and_click('go_back')"
   ]
  },
  {
   "cell_type": "code",
   "execution_count": null,
   "metadata": {},
   "outputs": [
    {
     "name": "stdout",
     "output_type": "stream",
     "text": [
      "(1193, 655)\n",
      "None\n"
     ]
    }
   ],
   "source": [
    "print(my_locator.locate('sortie'))\n",
    "print(my_locator.locate_and_click('sortie'))"
   ]
  },
  {
   "cell_type": "code",
   "execution_count": null,
   "metadata": {},
   "outputs": [
    {
     "name": "stdout",
     "output_type": "stream",
     "text": [
      "C:\\Users\\jchoi\\Coding\\python\\ffbe\\1280_720\\images\\another_world.png\n",
      "None\n"
     ]
    }
   ],
   "source": []
  }
 ],
 "metadata": {
  "kernelspec": {
   "display_name": "py311",
   "language": "python",
   "name": "python3"
  },
  "language_info": {
   "codemirror_mode": {
    "name": "ipython",
    "version": 3
   },
   "file_extension": ".py",
   "mimetype": "text/x-python",
   "name": "python",
   "nbconvert_exporter": "python",
   "pygments_lexer": "ipython3",
   "version": "3.11.0"
  },
  "orig_nbformat": 4
 },
 "nbformat": 4,
 "nbformat_minor": 2
}
