{
 "cells": [
  {
   "cell_type": "code",
   "execution_count": 6,
   "metadata": {},
   "outputs": [],
   "source": [
    "def click_in_serial(self, file_path=None, targets=None, kcs=None, cr=1):\n",
    "    pass\n",
    "def test(a, b=None, c=None):\n",
    "    test2(a, b, c)\n",
    "    return a, b, c\n",
    "def test2(a, b, c):\n",
    "    print(a,b,c)"
   ]
  },
  {
   "cell_type": "code",
   "execution_count": 7,
   "metadata": {},
   "outputs": [
    {
     "name": "stdout",
     "output_type": "stream",
     "text": [
      "4 None None\n"
     ]
    },
    {
     "data": {
      "text/plain": [
       "(4, None, None)"
      ]
     },
     "execution_count": 7,
     "metadata": {},
     "output_type": "execute_result"
    }
   ],
   "source": [
    "test(4)"
   ]
  },
  {
   "cell_type": "code",
   "execution_count": 9,
   "metadata": {},
   "outputs": [
    {
     "data": {
      "text/plain": [
       "'0.1'"
      ]
     },
     "execution_count": 9,
     "metadata": {},
     "output_type": "execute_result"
    }
   ],
   "source": [
    "t_str = '0.12'\n",
    "t_str[:3]"
   ]
  },
  {
   "cell_type": "code",
   "execution_count": 5,
   "metadata": {},
   "outputs": [],
   "source": [
    "class A:\n",
    "    def __init__(self):\n",
    "        self.class_name = \"A\"\n",
    "        self.bofa = B()\n",
    "class B:\n",
    "    def __init__(self):\n",
    "        pass\n",
    "    def set_variables(self, a:A):\n",
    "        self.class_name = a.class_name\n",
    "        print(self.class_name)"
   ]
  },
  {
   "cell_type": "code",
   "execution_count": 7,
   "metadata": {},
   "outputs": [
    {
     "name": "stdout",
     "output_type": "stream",
     "text": [
      "A\n",
      "A\n"
     ]
    }
   ],
   "source": [
    "a = A()\n",
    "b = B()\n",
    "b.set_variables(a)\n",
    "a.bofa.set_variables(a)"
   ]
  },
  {
   "cell_type": "code",
   "execution_count": 8,
   "metadata": {},
   "outputs": [
    {
     "data": {
      "text/plain": [
       "9377004"
      ]
     },
     "execution_count": 8,
     "metadata": {},
     "output_type": "execute_result"
    }
   ],
   "source": [
    "import win32gui\n",
    "win32gui.FindWindow(None, \"FINAL FANTASY BE:WOTV\")"
   ]
  },
  {
   "cell_type": "code",
   "execution_count": 13,
   "metadata": {},
   "outputs": [],
   "source": [
    "import os\n",
    "import re\n",
    "def load_sc_from_text(file_path):\n",
    "    path = file_path\n",
    "    if os.path.isfile(path):\n",
    "        with open(path, 'r') as f:\n",
    "            lines = f.readlines()\n",
    "    else:\n",
    "        return False\n",
    "    p = re.compile('\\[\\d*\\]')\n",
    "    sc_list = []\n",
    "    img_list = []\n",
    "    for l in lines:\n",
    "        m = re.match(p, l)\n",
    "        if m:\n",
    "            if img_list:\n",
    "                sc_list.append({'time': (int(cur_time)), 'targets': img_list})\n",
    "            cur_time = m.group()[1:-1]\n",
    "            img_list = []\n",
    "        else:\n",
    "            if l.strip():\n",
    "                img_list.append(l.strip())\n",
    "    if img_list:\n",
    "        sc_list.append({'time': (int(cur_time)), 'targets': img_list})\n",
    "    return sc_list"
   ]
  },
  {
   "cell_type": "code",
   "execution_count": 16,
   "metadata": {},
   "outputs": [
    {
     "data": {
      "text/plain": [
       "[{'time': 1, 'targets': ['test', 'abc']}]"
      ]
     },
     "execution_count": 16,
     "metadata": {},
     "output_type": "execute_result"
    }
   ],
   "source": [
    "path = r\"./a_orders\\test\\sc.txt\"\n",
    "load_sc_from_text(path)"
   ]
  },
  {
   "cell_type": "code",
   "execution_count": 27,
   "metadata": {},
   "outputs": [
    {
     "name": "stdout",
     "output_type": "stream",
     "text": [
      "2\n",
      "None\n"
     ]
    }
   ],
   "source": [
    "test_str = [\"1\", \"2\", \"3\"]\n",
    "print(test_str.index(\"3\"))\n",
    "print(test_str.reverse())"
   ]
  },
  {
   "cell_type": "code",
   "execution_count": 29,
   "metadata": {},
   "outputs": [],
   "source": [
    "test_str.clear()"
   ]
  },
  {
   "cell_type": "code",
   "execution_count": 30,
   "metadata": {},
   "outputs": [
    {
     "data": {
      "text/plain": [
       "[]"
      ]
     },
     "execution_count": 30,
     "metadata": {},
     "output_type": "execute_result"
    }
   ],
   "source": [
    "test_str"
   ]
  },
  {
   "cell_type": "code",
   "execution_count": 9,
   "metadata": {},
   "outputs": [],
   "source": [
    "import os\n",
    "import re\n",
    "t_str = \"target1|target2|target3@when#confidence\"\n",
    "p_addi_target = re.compile(\"\\|\\w*\")\n",
    "mat = re.findall(p_addi_target, t_str)\n",
    "for m in mat:\n",
    "    print(m[1:])"
   ]
  }
 ],
 "metadata": {
  "kernelspec": {
   "display_name": "py311",
   "language": "python",
   "name": "python3"
  },
  "language_info": {
   "codemirror_mode": {
    "name": "ipython",
    "version": 3
   },
   "file_extension": ".py",
   "mimetype": "text/x-python",
   "name": "python",
   "nbconvert_exporter": "python",
   "pygments_lexer": "ipython3",
   "version": "3.11.0"
  },
  "orig_nbformat": 4
 },
 "nbformat": 4,
 "nbformat_minor": 2
}
