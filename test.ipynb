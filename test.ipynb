{
 "cells": [
  {
   "cell_type": "code",
   "execution_count": 15,
   "metadata": {},
   "outputs": [
    {
     "name": "stdout",
     "output_type": "stream",
     "text": [
      "['일퀘하기']\n"
     ]
    }
   ],
   "source": [
    "import configparser\n",
    "conf = configparser.ConfigParser()\n",
    "conf.read(\"config_for_operation_option.txt\")\n",
    "print(conf.sections())"
   ]
  },
  {
   "cell_type": "code",
   "execution_count": 1,
   "metadata": {},
   "outputs": [],
   "source": [
    "import sys\n",
    "from PyQt5.QtWidgets import QApplication, QWidget, QGridLayout, QComboBox\n",
    "\n",
    "class MyWidget(QWidget):\n",
    "    def __init__(self):\n",
    "        super().__init__()\n",
    "\n",
    "        self.init_ui()\n",
    "\n",
    "    def init_ui(self):\n",
    "        self.grid_layout1 = QGridLayout(self)\n",
    "        self.grid_layout2 = QGridLayout(self)\n",
    "\n",
    "        # Create a grid of QComboBoxes for the first grid layout\n",
    "        for i in range(3):\n",
    "            for j in range(3):\n",
    "                combo_box1 = QComboBox(self)\n",
    "                self.grid_layout1.addWidget(combo_box1, i, j)\n",
    "\n",
    "        # Create a grid of QComboBoxes for the second grid layout\n",
    "        for i in range(3):\n",
    "            for j in range(3):\n",
    "                combo_box2 = QComboBox(self)\n",
    "                self.grid_layout2.addWidget(combo_box2, i, j)\n",
    "\n",
    "        # Set the initial layout (you can set it to either grid_layout1 or grid_layout2)\n",
    "        self.setLayout(self.grid_layout1)\n",
    "\n",
    "    def select_all_comboboxes_in_both_layouts(self):\n",
    "        # Find all QComboBoxes in the first layout\n",
    "        comboboxes_layout1 = self.grid_layout1.findChildren(QComboBox)\n",
    "\n",
    "        for combobox in comboboxes_layout1:\n",
    "            # Perform your desired actions on the QComboBox here\n",
    "            # For example, selecting an item:\n",
    "            combobox.setCurrentIndex(0)\n",
    "\n",
    "        # Find all QComboBoxes in the second layout\n",
    "        comboboxes_layout2 = self.grid_layout2.findChildren(QComboBox)\n",
    "\n",
    "        for combobox in comboboxes_layout2:\n",
    "            # Perform your desired actions on the QComboBox here\n",
    "            # For example, selecting an item:\n",
    "            combobox.setCurrentIndex(0)\n",
    "\n",
    "if __name__ == '__main__':\n",
    "    app = QApplication(sys.argv)\n",
    "    window = MyWidget()\n",
    "    window.show()\n",
    "\n",
    "    # Select all QComboBoxes in both grid layouts\n",
    "    window.select_all_comboboxes_in_both_layouts()\n",
    "\n",
    "    sys.exit(app.exec_())"
   ]
  },
  {
   "cell_type": "code",
   "execution_count": 56,
   "metadata": {},
   "outputs": [
    {
     "name": "stdout",
     "output_type": "stream",
     "text": [
      "single positional indexer is out-of-bounds\n"
     ]
    },
    {
     "data": {
      "text/plain": [
       "999.0"
      ]
     },
     "execution_count": 56,
     "metadata": {},
     "output_type": "execute_result"
    }
   ],
   "source": [
    "import pandas as pd\n",
    "\n",
    "def get_si(dw:str, df:pd.DataFrame):\n",
    "    try:\n",
    "        si = df[df['dw']==dw]['si'].iloc[0]\n",
    "    except Exception as e:\n",
    "        print(e)\n",
    "        si = 999.0\n",
    "    return si\n",
    "\n",
    "dw_in_order = [\n",
    "            \"백그라운드\",\"체력회복\", \"초코보\", \"소환\", \"상점\", \"길드\", \"pvp\", \"이계의성\", \"스토리\", \"친구\", \"미션\", \"스탬프\", \"선물\", \"멀티클라\"\n",
    "        ]\n",
    "si_for_dw = [float(i) for i in range(1, len(dw_in_order)+1)]\n",
    "df = pd.DataFrame({'dw':dw_in_order, 'si':si_for_dw})\n",
    "df = df.sort_values(by='si', ascending=True)\n",
    "get_si('초코보', df)\n",
    "get_si('초보', df)"
   ]
  },
  {
   "cell_type": "code",
   "execution_count": 22,
   "metadata": {},
   "outputs": [
    {
     "name": "stdout",
     "output_type": "stream",
     "text": [
      "{'일퀘하기': {'option_list': '백그라운드, 체력회복'}}\n"
     ]
    }
   ],
   "source": [
    "import configparser\n",
    "\n",
    "def config_to_dict(config):\n",
    "    config_dict = {}\n",
    "    for section_name in config.sections():\n",
    "        section_dict = {}\n",
    "        for key, value in config[section_name].items():\n",
    "            section_dict[key] = value\n",
    "        config_dict[section_name] = section_dict\n",
    "    return config_dict\n",
    "\n",
    "conf = configparser.ConfigParser()\n",
    "conf.read(\"config_for_oper_option.txt\", encoding='UTF-8')\n",
    "\n",
    "d = config_to_dict(conf)\n",
    "print(d)"
   ]
  },
  {
   "cell_type": "code",
   "execution_count": 6,
   "metadata": {},
   "outputs": [
    {
     "name": "stdout",
     "output_type": "stream",
     "text": [
      "['.gitignore', 'ffbe - 복사본.ipynb', 'ffbe.bat', 'ffbe.ipynb', 'ffbe_automator.py', 'ffbe_gui - backup.py', 'ffbe_gui.py', 'ffbe_gui.spec', 'ffbe_widget - backup.ui', 'ffbe_widget.ui', 'ffbe_widget2.ui', 'LICENSE', 'locator', 'locator.py', 'locator_config.txt', 'mouse_position.py', 'output_gui.ui', 'README.md', 'test.ipynb', 'test.ui', 'test_gui.py', 'test_gui.ui', 'test_widget.ui', 'window_move.py']\n"
     ]
    }
   ],
   "source": [
    "from genericpath import isfile\n",
    "import os\n",
    "files = [f for f in os.listdir(\".\") if os.path.isfile(f)]\n",
    "print(files)\n",
    "\n",
    "# for f in files:\n",
    "#     if os.path.isdir(f):\n",
    "#         print(f)\n",
    "    "
   ]
  },
  {
   "cell_type": "code",
   "execution_count": 3,
   "metadata": {},
   "outputs": [],
   "source": []
  },
  {
   "cell_type": "code",
   "execution_count": 6,
   "metadata": {},
   "outputs": [
    {
     "name": "stdout",
     "output_type": "stream",
     "text": [
      "(1, '0.1', 'leonis')\n"
     ]
    }
   ],
   "source": []
  },
  {
   "cell_type": "code",
   "execution_count": null,
   "metadata": {},
   "outputs": [],
   "source": [
    "import pygetwindow as gw\n",
    "\n",
    "result = gw.getAllWindows()\n",
    "\n",
    "for w in result:\n",
    "    print(w.title, w._hWnd)"
   ]
  },
  {
   "cell_type": "code",
   "execution_count": null,
   "metadata": {},
   "outputs": [],
   "source": [
    "import pygetwindow as gw\n",
    "import win32process\n",
    "import psutil\n",
    "\n",
    "window_titles = gw.getAllTitles()\n",
    "\n",
    "for title in window_titles:\n",
    "    window = gw.getWindowsWithTitle(title)[0]\n",
    "    hwnd = window._hWnd\n",
    "    \n",
    "    _, pid = win32process.GetWindowThreadProcessId(hwnd)\n",
    "    process = psutil.Process(pid)\n",
    "    process_name = process.name()\n",
    "    \n",
    "    print(\"Window Title:\", title)\n",
    "    print(\"HWND:\", hwnd)\n",
    "    print(\"Process Name:\", process_name)\n",
    "    print()"
   ]
  },
  {
   "cell_type": "code",
   "execution_count": 5,
   "metadata": {},
   "outputs": [
    {
     "name": "stdout",
     "output_type": "stream",
     "text": [
      "Monitor \\\\.\\DISPLAY1:\n",
      "  Resolution: 2160x3840\n",
      "Monitor \\\\.\\DISPLAY2:\n",
      "  Resolution: 3840x2160\n"
     ]
    }
   ],
   "source": [
    "from screeninfo import get_monitors\n",
    "\n",
    "monitors = get_monitors()\n",
    "\n",
    "for monitor in monitors:\n",
    "    width = monitor.width\n",
    "    height = monitor.height\n",
    "    print(f\"Monitor {monitor.name}:\")\n",
    "    print(f\"  Resolution: {width}x{height}\")"
   ]
  },
  {
   "cell_type": "code",
   "execution_count": 9,
   "metadata": {},
   "outputs": [
    {
     "data": {
      "text/plain": [
       "(0, 0, 882, 496)"
      ]
     },
     "execution_count": 9,
     "metadata": {},
     "output_type": "execute_result"
    }
   ],
   "source": [
    "import win32gui\n",
    "window_title = \"FINAL FANTASY BE:WOTV\"\n",
    "hwnd = win32gui.FindWindow(None, window_title)\n",
    "win32gui.GetClientRect(hwnd)"
   ]
  },
  {
   "cell_type": "code",
   "execution_count": 5,
   "metadata": {},
   "outputs": [
    {
     "name": "stdout",
     "output_type": "stream",
     "text": [
      "Your public IP address is: Unable to get public IP address\n"
     ]
    }
   ],
   "source": [
    "import requests\n",
    "\n",
    "def get_public_ip():\n",
    "    try:\n",
    "        response = requests.get('https://api.ipify.org?format=json')\n",
    "        ip_data = response.json()\n",
    "        public_ip = ip_data['ip']\n",
    "        return public_ip\n",
    "    except requests.RequestException:\n",
    "        return \"Unable to get public IP address\"\n",
    "\n",
    "# Call the function to get the public IP address\n",
    "ip = get_public_ip()\n",
    "print(\"Your public IP address is:\", ip)"
   ]
  },
  {
   "cell_type": "code",
   "execution_count": 6,
   "metadata": {},
   "outputs": [
    {
     "name": "stdout",
     "output_type": "stream",
     "text": [
      "Your public IP address is: 121.167.166.77\n"
     ]
    }
   ],
   "source": [
    "import requests\n",
    "\n",
    "def get_public_ip():\n",
    "    try:\n",
    "        response = requests.get('https://ipinfo.io/json')\n",
    "        ip_data = response.json()\n",
    "        public_ip = ip_data['ip']\n",
    "        return public_ip\n",
    "    except requests.RequestException:\n",
    "        return \"Unable to get public IP address\"\n",
    "\n",
    "# Call the function to get the public IP address\n",
    "ip = get_public_ip()\n",
    "print(\"Your public IP address is:\", ip)"
   ]
  }
 ],
 "metadata": {
  "kernelspec": {
   "display_name": "py311",
   "language": "python",
   "name": "python3"
  },
  "language_info": {
   "codemirror_mode": {
    "name": "ipython",
    "version": 3
   },
   "file_extension": ".py",
   "mimetype": "text/x-python",
   "name": "python",
   "nbconvert_exporter": "python",
   "pygments_lexer": "ipython3",
   "version": "3.11.0"
  },
  "orig_nbformat": 4
 },
 "nbformat": 4,
 "nbformat_minor": 2
}
