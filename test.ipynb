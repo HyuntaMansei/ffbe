{
 "cells": [
  {
   "cell_type": "code",
   "execution_count": 6,
   "metadata": {},
   "outputs": [
    {
     "name": "stdout",
     "output_type": "stream",
     "text": [
      "['.gitignore', 'ffbe - 복사본.ipynb', 'ffbe.bat', 'ffbe.ipynb', 'ffbe_automator.py', 'ffbe_gui - backup.py', 'ffbe_gui.py', 'ffbe_gui.spec', 'ffbe_widget - backup.ui', 'ffbe_widget.ui', 'ffbe_widget2.ui', 'LICENSE', 'locator', 'locator.py', 'locator_config.txt', 'mouse_position.py', 'output_gui.ui', 'README.md', 'test.ipynb', 'test.ui', 'test_gui.py', 'test_gui.ui', 'test_widget.ui', 'window_move.py']\n"
     ]
    }
   ],
   "source": [
    "from genericpath import isfile\n",
    "import os\n",
    "files = [f for f in os.listdir(\".\") if os.path.isfile(f)]\n",
    "print(files)\n",
    "\n",
    "# for f in files:\n",
    "#     if os.path.isdir(f):\n",
    "#         print(f)\n",
    "    "
   ]
  },
  {
   "cell_type": "code",
   "execution_count": 3,
   "metadata": {},
   "outputs": [],
   "source": []
  },
  {
   "cell_type": "code",
   "execution_count": 6,
   "metadata": {},
   "outputs": [
    {
     "name": "stdout",
     "output_type": "stream",
     "text": [
      "(1, '0.1', 'leonis')\n"
     ]
    }
   ],
   "source": []
  },
  {
   "cell_type": "code",
   "execution_count": 1,
   "metadata": {},
   "outputs": [
    {
     "name": "stdout",
     "output_type": "stream",
     "text": [
      " 263608\n",
      " 65750\n",
      "● test.ipynb - ffbe - Visual Studio Code 68944\n",
      "leonis 264464\n",
      "ffbe_gui.py – ffbe_gui.py 590938\n",
      "반디캠 2023 (평가판) 264428\n",
      "녹스 매니저 67632\n",
      "MySQL Workbench 199014\n",
      " 68176\n",
      "설정 590524\n",
      "설정 264708\n",
      "Microsoft To Do 67596\n",
      "MainWindow 66786\n",
      "NVIDIA GeForce Overlay 1114194\n",
      "Windows 입력 환경 131264\n",
      " 65944\n",
      " 65962\n",
      " 65972\n",
      " 65924\n",
      " 65898\n",
      " 65896\n",
      " 65894\n",
      " 65892\n",
      " 198156\n",
      "Microsoft To Do 264184\n",
      "Grant Privileges to User - Chrome 133440\n",
      "픽픽 - 2023-07-15 DT-M 024.png 133794\n",
      " 198938\n",
      "Program Manager 65842\n"
     ]
    }
   ],
   "source": [
    "import pygetwindow as gw\n",
    "\n",
    "result = gw.getAllWindows()\n",
    "\n",
    "for w in result:\n",
    "    print(w.title, w._hWnd)"
   ]
  },
  {
   "cell_type": "code",
   "execution_count": null,
   "metadata": {},
   "outputs": [],
   "source": [
    "import pygetwindow as gw\n",
    "import win32process\n",
    "import psutil\n",
    "\n",
    "window_titles = gw.getAllTitles()\n",
    "\n",
    "for title in window_titles:\n",
    "    window = gw.getWindowsWithTitle(title)[0]\n",
    "    hwnd = window._hWnd\n",
    "    \n",
    "    _, pid = win32process.GetWindowThreadProcessId(hwnd)\n",
    "    process = psutil.Process(pid)\n",
    "    process_name = process.name()\n",
    "    \n",
    "    print(\"Window Title:\", title)\n",
    "    print(\"HWND:\", hwnd)\n",
    "    print(\"Process Name:\", process_name)\n",
    "    print()"
   ]
  },
  {
   "cell_type": "code",
   "execution_count": 5,
   "metadata": {},
   "outputs": [
    {
     "name": "stdout",
     "output_type": "stream",
     "text": [
      "Monitor \\\\.\\DISPLAY1:\n",
      "  Resolution: 2160x3840\n",
      "Monitor \\\\.\\DISPLAY2:\n",
      "  Resolution: 3840x2160\n"
     ]
    }
   ],
   "source": [
    "from screeninfo import get_monitors\n",
    "\n",
    "monitors = get_monitors()\n",
    "\n",
    "for monitor in monitors:\n",
    "    width = monitor.width\n",
    "    height = monitor.height\n",
    "    print(f\"Monitor {monitor.name}:\")\n",
    "    print(f\"  Resolution: {width}x{height}\")"
   ]
  },
  {
   "cell_type": "code",
   "execution_count": 8,
   "metadata": {},
   "outputs": [
    {
     "data": {
      "text/plain": [
       "(0, 0, 1771, 996)"
      ]
     },
     "execution_count": 8,
     "metadata": {},
     "output_type": "execute_result"
    }
   ],
   "source": [
    "import win32gui\n",
    "window_title = \"FINAL FANTASY BE:WOTV\"\n",
    "hwnd = win32gui.FindWindow(None, window_title)\n",
    "win32gui.GetClientRect(hwnd)"
   ]
  },
  {
   "cell_type": "code",
   "execution_count": 5,
   "metadata": {},
   "outputs": [
    {
     "name": "stdout",
     "output_type": "stream",
     "text": [
      "Your public IP address is: Unable to get public IP address\n"
     ]
    }
   ],
   "source": [
    "import requests\n",
    "\n",
    "def get_public_ip():\n",
    "    try:\n",
    "        response = requests.get('https://api.ipify.org?format=json')\n",
    "        ip_data = response.json()\n",
    "        public_ip = ip_data['ip']\n",
    "        return public_ip\n",
    "    except requests.RequestException:\n",
    "        return \"Unable to get public IP address\"\n",
    "\n",
    "# Call the function to get the public IP address\n",
    "ip = get_public_ip()\n",
    "print(\"Your public IP address is:\", ip)"
   ]
  },
  {
   "cell_type": "code",
   "execution_count": 6,
   "metadata": {},
   "outputs": [
    {
     "name": "stdout",
     "output_type": "stream",
     "text": [
      "Your public IP address is: 121.167.166.77\n"
     ]
    }
   ],
   "source": [
    "import requests\n",
    "\n",
    "def get_public_ip():\n",
    "    try:\n",
    "        response = requests.get('https://ipinfo.io/json')\n",
    "        ip_data = response.json()\n",
    "        public_ip = ip_data['ip']\n",
    "        return public_ip\n",
    "    except requests.RequestException:\n",
    "        return \"Unable to get public IP address\"\n",
    "\n",
    "# Call the function to get the public IP address\n",
    "ip = get_public_ip()\n",
    "print(\"Your public IP address is:\", ip)"
   ]
  }
 ],
 "metadata": {
  "kernelspec": {
   "display_name": "py311",
   "language": "python",
   "name": "python3"
  },
  "language_info": {
   "codemirror_mode": {
    "name": "ipython",
    "version": 3
   },
   "file_extension": ".py",
   "mimetype": "text/x-python",
   "name": "python",
   "nbconvert_exporter": "python",
   "pygments_lexer": "ipython3",
   "version": "3.11.0"
  },
  "orig_nbformat": 4
 },
 "nbformat": 4,
 "nbformat_minor": 2
}
