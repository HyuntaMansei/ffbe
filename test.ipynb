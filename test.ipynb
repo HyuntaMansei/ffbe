{
 "cells": [
  {
   "cell_type": "code",
   "execution_count": 5,
   "metadata": {},
   "outputs": [
    {
     "data": {
      "text/plain": [
       "'Physical size: 1080x1920\\n'"
      ]
     },
     "execution_count": 5,
     "metadata": {},
     "output_type": "execute_result"
    }
   ],
   "source": [
    "from ppadb.client import Client as AdbClient\n",
    "adbClient = AdbClient()\n",
    "my_device = adbClient.devices()[0]\n",
    "my_device.shell(\"wm size\")"
   ]
  },
  {
   "cell_type": "code",
   "execution_count": 9,
   "metadata": {},
   "outputs": [
    {
     "data": {
      "text/plain": [
       "''"
      ]
     },
     "execution_count": 9,
     "metadata": {},
     "output_type": "execute_result"
    }
   ],
   "source": [
    "my_device.input_tap(200, 200)"
   ]
  },
  {
   "cell_type": "code",
   "execution_count": 11,
   "metadata": {},
   "outputs": [],
   "source": [
    "import win32gui\n",
    "hwnd = win32gui.FindWindow(None, 'hyuntamansei')"
   ]
  },
  {
   "cell_type": "code",
   "execution_count": 14,
   "metadata": {},
   "outputs": [],
   "source": [
    "import configparser\n",
    "config = configparser.ConfigParser()\n",
    "config.read('./config.ini')\n",
    "conf = config['bluestack']"
   ]
  },
  {
   "cell_type": "code",
   "execution_count": 18,
   "metadata": {},
   "outputs": [
    {
     "data": {
      "text/plain": [
       "['0', '64']"
      ]
     },
     "execution_count": 18,
     "metadata": {},
     "output_type": "execute_result"
    }
   ],
   "source": [
    "conf['size']\n",
    "conf['xy0'].split(',')"
   ]
  },
  {
   "cell_type": "code",
   "execution_count": 2,
   "metadata": {},
   "outputs": [
    {
     "ename": "IndexError",
     "evalue": "list index out of range",
     "output_type": "error",
     "traceback": [
      "\u001b[1;31m---------------------------------------------------------------------------\u001b[0m",
      "\u001b[1;31mIndexError\u001b[0m                                Traceback (most recent call last)",
      "Cell \u001b[1;32mIn[2], line 10\u001b[0m\n\u001b[0;32m      8\u001b[0m \u001b[39mfrom\u001b[39;00m \u001b[39mppadb\u001b[39;00m\u001b[39m.\u001b[39;00m\u001b[39mclient\u001b[39;00m \u001b[39mimport\u001b[39;00m Client \u001b[39mas\u001b[39;00m AdbClient\n\u001b[0;32m      9\u001b[0m my_client \u001b[39m=\u001b[39m AdbClient()\n\u001b[1;32m---> 10\u001b[0m my_device \u001b[39m=\u001b[39m my_client\u001b[39m.\u001b[39;49mdevices()[\u001b[39m0\u001b[39;49m]\n\u001b[0;32m     12\u001b[0m hwnd_hyuntamansei \u001b[39m=\u001b[39m win32gui\u001b[39m.\u001b[39mFindWindow(\u001b[39mNone\u001b[39;00m, \u001b[39m\"\u001b[39m\u001b[39mhyuntamansei\u001b[39m\u001b[39m\"\u001b[39m)\n\u001b[0;32m     13\u001b[0m hwnd_jchoi82kor \u001b[39m=\u001b[39m win32gui\u001b[39m.\u001b[39mFindWindow(\u001b[39mNone\u001b[39;00m, \u001b[39m\"\u001b[39m\u001b[39mjchoi82kor\u001b[39m\u001b[39m\"\u001b[39m)\n",
      "\u001b[1;31mIndexError\u001b[0m: list index out of range"
     ]
    }
   ],
   "source": [
    "import win32gui\n",
    "import win32con\n",
    "import time\n",
    "import automator\n",
    "import importlib\n",
    "importlib.reload(automator)\n",
    "\n",
    "from ppadb.client import Client as AdbClient\n",
    "my_client = AdbClient()\n",
    "my_device = my_client.devices()[0]\n",
    "\n",
    "hwnd_hyuntamansei = win32gui.FindWindow(None, \"hyuntamansei\")\n",
    "hwnd_jchoi82kor = win32gui.FindWindow(None, \"jchoi82kor\")"
   ]
  },
  {
   "cell_type": "code",
   "execution_count": 3,
   "metadata": {},
   "outputs": [],
   "source": [
    "from ppadb.client import Client as AdbClient\n",
    "client = AdbClient()\n",
    "#first one=62001\n",
    "#second one=62025\n",
    "nox = client.devices()[0]"
   ]
  },
  {
   "cell_type": "code",
   "execution_count": 4,
   "metadata": {},
   "outputs": [
    {
     "data": {
      "text/plain": [
       "'Physical size: 1080x1920\\n'"
      ]
     },
     "execution_count": 4,
     "metadata": {},
     "output_type": "execute_result"
    }
   ],
   "source": [
    "nox.shell(\"wm size\")"
   ]
  }
 ],
 "metadata": {
  "kernelspec": {
   "display_name": "py311",
   "language": "python",
   "name": "python3"
  },
  "language_info": {
   "codemirror_mode": {
    "name": "ipython",
    "version": 3
   },
   "file_extension": ".py",
   "mimetype": "text/x-python",
   "name": "python",
   "nbconvert_exporter": "python",
   "pygments_lexer": "ipython3",
   "version": "3.11.0"
  },
  "orig_nbformat": 4
 },
 "nbformat": 4,
 "nbformat_minor": 2
}
