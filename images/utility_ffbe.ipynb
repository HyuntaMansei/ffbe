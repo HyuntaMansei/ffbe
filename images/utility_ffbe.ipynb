{
 "cells": [
  {
   "cell_type": "code",
   "execution_count": null,
   "metadata": {},
   "outputs": [],
   "source": [
    "import os\n",
    "import re\n",
    "\n",
    "def replace_in_files(directory, str1, str2):\n",
    "    \"\"\"\n",
    "    주어진 디렉토리와 하위 디렉토리 내의 모든 .txt 파일에서 str1을 str2로 변환합니다.\n",
    "    \n",
    "    :param directory: 문자열, 탐색을 시작할 디렉토리 경로\n",
    "    :param str1: 문자열, 변환할 대상 문자열\n",
    "    :param str2: 문자열, 변환될 문자열\n",
    "    \"\"\"\n",
    "    for root, _, files in os.walk(directory):\n",
    "        for file in files:\n",
    "            if file.endswith('.txt'):\n",
    "                file_path = os.path.join(root, file)\n",
    "                with open(file_path, 'r', encoding='utf-8') as f:\n",
    "                    content = f.read()\n",
    "                \n",
    "                new_content = content.replace(str1, str2)\n",
    "                \n",
    "                with open(file_path, 'w', encoding='utf-8') as f:\n",
    "                    f.write(new_content)\n",
    "                print(f\"Processed file: {file_path}\")\n",
    "\n",
    "# 사용 예시\n",
    "replace_in_files('path_to_directory', 'old_string', 'new_string')\n"
   ]
  }
 ],
 "metadata": {
  "language_info": {
   "name": "python"
  }
 },
 "nbformat": 4,
 "nbformat_minor": 2
}
