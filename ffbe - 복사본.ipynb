{
 "cells": [
  {
   "cell_type": "code",
   "execution_count": 16,
   "metadata": {},
   "outputs": [
    {
     "name": "stdout",
     "output_type": "stream",
     "text": [
      "461538\n",
      "0\n"
     ]
    }
   ],
   "source": [
    "import win32gui\n",
    "import win32con\n",
    "import time\n",
    "import automator\n",
    "import importlib\n",
    "importlib.reload(automator)\n",
    "\n",
    "hwnd_hyuntamansei = win32gui.FindWindow(None, \"hyuntamansei\")\n",
    "print(hwnd_hyuntamansei)\n",
    "hwnd_jchoi82kor = win32gui.FindWindow(None, \"jchoi82kor\")\n",
    "print(hwnd_jchoi82kor)"
   ]
  },
  {
   "cell_type": "code",
   "execution_count": 18,
   "metadata": {},
   "outputs": [
    {
     "name": "stdout",
     "output_type": "stream",
     "text": [
      "[<ppadb.device.Device object at 0x000002CBF8FF7510>]\n"
     ]
    },
    {
     "data": {
      "text/plain": [
       "'Physical size: 1080x1920\\n'"
      ]
     },
     "execution_count": 18,
     "metadata": {},
     "output_type": "execute_result"
    }
   ],
   "source": [
    "from ppadb.client import Client as AdbClient\n",
    "my_client = AdbClient()\n",
    "# my_client = AdbClient(host=\"127.0.0.1\", port=5555)\n",
    "print(my_client.devices())\n",
    "my_device = my_client.devices()[0]\n",
    "my_device.shell(\"wm size\")\n",
    "my_device.in"
   ]
  },
  {
   "cell_type": "code",
   "execution_count": null,
   "metadata": {},
   "outputs": [],
   "source": [
    "# nox_hyuntamansei = automator.Automator(hwnd_hyuntamansei, './nox_images/')\n",
    "nox_hyuntamansei = automator.Automator(hwnd_hyuntamansei, './bluestack_images/')\n",
    "nox_hyuntamansei.confidence=0.95\n",
    "nox_hyuntamansei.read_coor('./coor_bluestack.ini')\n",
    "nox_hyuntamansei.connect_click_method(my_device.input_tap)\n",
    "for cnt in range(10):\n",
    "    nox_hyuntamansei.read_coor()\n",
    "    #퀘스트 자동 진행\n",
    "    print(\"selecting chapter\")\n",
    "    nox_hyuntamansei.wait_and_click('select_chapter', xy='top_quest', trial_number=30)\n",
    "    print(\"clicking sortie\")\n",
    "    nox_hyuntamansei.wait_and_click('sortie')\n",
    "    print(\"after clicking sortie\")\n",
    "    time.sleep(10)\n",
    "    ##skip 하기 누르기\n",
    "    while nox_hyuntamansei.locate('auto') == None:\n",
    "        print(\"before batlle, story skip\")\n",
    "        nox_hyuntamansei.click('story_skip1')\n",
    "        time.sleep(1)\n",
    "        nox_hyuntamansei.click('story_skip2')\n",
    "        time.sleep(10)\n",
    "    print(\"in battle stage\")\n",
    "    nox_hyuntamansei.locate('next', trial_number=600)\n",
    "    print(\"Mission complete\")\n",
    "    time.sleep(10)\n",
    "    while nox_hyuntamansei.locate_and_click('end_of_quest') == None:\n",
    "        print(\"Until end_of_quest\")\n",
    "        nox_hyuntamansei.locate_and_click('next')\n",
    "        # nox_hyuntamansei.locate_and_click('x')\n",
    "        time.sleep(2)\n",
    "        nox_hyuntamansei.wait_and_click('next')\n",
    "        # nox_hyuntamansei.locate_and_click('x')\n",
    "        time.sleep(2)\n",
    "        # nox_hyuntamansei.locate_and_click('later')\n",
    "    time.sleep(2)\n",
    "    nox_hyuntamansei.locate_and_click('end_of_quest')\n",
    "    print(\"The quest ended\")\n",
    "    time.sleep(10)\n",
    "    count = 0\n",
    "    while nox_hyuntamansei.locate('select_chapter') == None:\n",
    "        print(f\"after batlle, until 'select chapter', repeating, ... story skip, count={count}\")\n",
    "        nox_hyuntamansei.click('story_skip1')\n",
    "        time.sleep(1)\n",
    "        nox_hyuntamansei.click('story_skip2')\n",
    "        time.sleep(5)\n",
    "        nox_hyuntamansei.click('ok')\n",
    "        count += 1\n",
    "        if count > 10:\n",
    "            break"
   ]
  },
  {
   "cell_type": "code",
   "execution_count": 15,
   "metadata": {},
   "outputs": [
    {
     "name": "stdout",
     "output_type": "stream",
     "text": [
      "['1080', ' 1920']\n"
     ]
    }
   ],
   "source": [
    "    "
   ]
  }
 ],
 "metadata": {
  "kernelspec": {
   "display_name": "py311",
   "language": "python",
   "name": "python3"
  },
  "language_info": {
   "codemirror_mode": {
    "name": "ipython",
    "version": 3
   },
   "file_extension": ".py",
   "mimetype": "text/x-python",
   "name": "python",
   "nbconvert_exporter": "python",
   "pygments_lexer": "ipython3",
   "version": "3.11.0"
  },
  "orig_nbformat": 4
 },
 "nbformat": 4,
 "nbformat_minor": 2
}
