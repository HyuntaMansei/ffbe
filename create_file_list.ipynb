{
 "cells": [
  {
   "cell_type": "code",
   "execution_count": 8,
   "metadata": {},
   "outputs": [],
   "source": [
    "import os\n",
    "# 디렉토리에 있는 모든 그림파일을의 리스트를 작성한 후, 그림파일들을 지운다. \n",
    "def create_file_list(directory_path):\n",
    "    # List all files and directories in the specified directory\n",
    "    file_list = []\n",
    "    for item in os.listdir(directory_path):\n",
    "        item_path = os.path.join(directory_path, item)\n",
    "        if os.path.isfile(item_path):\n",
    "            if item.split('.')[-1] == 'png':\n",
    "                file_list.append(item)\n",
    "                os.remove(item_path)\n",
    "        elif os.path.isdir(item_path):\n",
    "            if not item == \"images\":\n",
    "                create_file_list(item_path)\n",
    "    # Save the list to a file\n",
    "    output_file_path = directory_path + \"/target_names.txt\"  # Specify the output file path\n",
    "    if file_list:\n",
    "        with open(output_file_path, \"w\") as file:\n",
    "            for item in file_list:\n",
    "                file.write(item + \"\\n\")\n",
    "        print(\"File list saved to\", output_file_path)"
   ]
  },
  {
   "cell_type": "code",
   "execution_count": null,
   "metadata": {},
   "outputs": [],
   "source": [
    "# directory_path = \"./1280_720/\"  # Replace with the actual directory path\n",
    "directory_path = \"./1600_720/\"  # Replace with the actual directory path\n",
    "create_file_list(directory_path=directory_path)"
   ]
  },
  {
   "cell_type": "code",
   "execution_count": 1,
   "metadata": {},
   "outputs": [],
   "source": [
    "# 디렉토리의 모든 txt파일을 읽어들여서 필요한 파일 목록을 만든 후, images에 없는 파일을 명단을 저장한다. \n",
    "import os\n",
    "directory_path = \"./1600_720/\"\n",
    "def check_missing_files(directory_path):\n",
    "    target_files = list_png_files(directory_path)\n",
    "    missing_files = []\n",
    "    for t in target_files:\n",
    "        if not os.path.isfile(os.path.join(directory_path, \"images\", t)):\n",
    "            missing_files.append(t)\n",
    "    return missing_files\n",
    "def list_png_files(directory_path):\n",
    "    # List all files and directories in the specified directory\n",
    "    file_list = []\n",
    "    for item in os.listdir(directory_path):\n",
    "        item_path = os.path.join(directory_path, item)\n",
    "        if os.path.isfile(item_path):\n",
    "            if item.split('.')[-1] == 'txt':\n",
    "                with open(os.path.join(directory_path, item), \"r\") as file:\n",
    "                    lines = [f.strip() for f in file.readlines() if '.png' in f]  # Read all lines into a list\n",
    "                file_list.extend(lines)\n",
    "        elif os.path.isdir(item_path):\n",
    "            if not item == \"images\":\n",
    "                # print(f\"going deeper to {item_path}\")\n",
    "                res = list_png_files(item_path)\n",
    "                if res: \n",
    "                    file_list.extend(res)\n",
    "    return list(set(file_list))\n"
   ]
  },
  {
   "cell_type": "code",
   "execution_count": 2,
   "metadata": {},
   "outputs": [
    {
     "ename": "NameError",
     "evalue": "name 'list_files' is not defined",
     "output_type": "error",
     "traceback": [
      "\u001b[1;31m---------------------------------------------------------------------------\u001b[0m",
      "\u001b[1;31mNameError\u001b[0m                                 Traceback (most recent call last)",
      "Cell \u001b[1;32mIn[2], line 3\u001b[0m\n\u001b[0;32m      1\u001b[0m directory_path \u001b[39m=\u001b[39m \u001b[39m\"\u001b[39m\u001b[39m./1920_1080/\u001b[39m\u001b[39m\"\u001b[39m\n\u001b[0;32m      2\u001b[0m \u001b[39m# directory_path = \"./1280_720/\"\u001b[39;00m\n\u001b[1;32m----> 3\u001b[0m res \u001b[39m=\u001b[39m check_missing_files(directory_path)\n\u001b[0;32m      4\u001b[0m res\n",
      "Cell \u001b[1;32mIn[1], line 5\u001b[0m, in \u001b[0;36mcheck_missing_files\u001b[1;34m(directory_path)\u001b[0m\n\u001b[0;32m      4\u001b[0m \u001b[39mdef\u001b[39;00m \u001b[39mcheck_missing_files\u001b[39m(directory_path):\n\u001b[1;32m----> 5\u001b[0m     target_files \u001b[39m=\u001b[39m list_png_files(directory_path)\n\u001b[0;32m      6\u001b[0m     missing_files \u001b[39m=\u001b[39m []\n\u001b[0;32m      7\u001b[0m     \u001b[39mfor\u001b[39;00m t \u001b[39min\u001b[39;00m target_files:\n",
      "Cell \u001b[1;32mIn[1], line 24\u001b[0m, in \u001b[0;36mlist_png_files\u001b[1;34m(directory_path)\u001b[0m\n\u001b[0;32m     21\u001b[0m \u001b[39melif\u001b[39;00m os\u001b[39m.\u001b[39mpath\u001b[39m.\u001b[39misdir(item_path):\n\u001b[0;32m     22\u001b[0m     \u001b[39mif\u001b[39;00m \u001b[39mnot\u001b[39;00m item \u001b[39m==\u001b[39m \u001b[39m\"\u001b[39m\u001b[39mimages\u001b[39m\u001b[39m\"\u001b[39m:\n\u001b[0;32m     23\u001b[0m         \u001b[39m# print(f\"going deeper to {item_path}\")\u001b[39;00m\n\u001b[1;32m---> 24\u001b[0m         res \u001b[39m=\u001b[39m list_files(item_path)\n\u001b[0;32m     25\u001b[0m         \u001b[39mif\u001b[39;00m res: \n\u001b[0;32m     26\u001b[0m             file_list\u001b[39m.\u001b[39mextend(res)\n",
      "\u001b[1;31mNameError\u001b[0m: name 'list_files' is not defined"
     ]
    }
   ],
   "source": [
    "directory_path = \"./1920_1080/\"\n",
    "# directory_path = \"./1280_720/\"\n",
    "res = check_missing_files(directory_path)\n",
    "res"
   ]
  }
 ],
 "metadata": {
  "kernelspec": {
   "display_name": "py311",
   "language": "python",
   "name": "python3"
  },
  "language_info": {
   "codemirror_mode": {
    "name": "ipython",
    "version": 3
   },
   "file_extension": ".py",
   "mimetype": "text/x-python",
   "name": "python",
   "nbconvert_exporter": "python",
   "pygments_lexer": "ipython3",
   "version": "3.11.0"
  },
  "orig_nbformat": 4
 },
 "nbformat": 4,
 "nbformat_minor": 2
}
