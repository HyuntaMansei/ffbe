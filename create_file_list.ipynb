{
 "cells": [
  {
   "cell_type": "code",
   "execution_count": 8,
   "metadata": {},
   "outputs": [],
   "source": [
    "import os\n",
    "# 디렉토리에 있는 모든 그림파일을의 리스트를 작성한 후, 그림파일들을 지운다. \n",
    "def create_file_list(directory_path):\n",
    "    # List all files and directories in the specified directory\n",
    "    file_list = []\n",
    "    for item in os.listdir(directory_path):\n",
    "        item_path = os.path.join(directory_path, item)\n",
    "        if os.path.isfile(item_path):\n",
    "            if item.split('.')[-1] == 'png':\n",
    "                file_list.append(item)\n",
    "                os.remove(item_path)\n",
    "        elif os.path.isdir(item_path):\n",
    "            if not item == \"images\":\n",
    "                create_file_list(item_path)\n",
    "    # Save the list to a file\n",
    "    output_file_path = directory_path + \"/target_names.txt\"  # Specify the output file path\n",
    "    if file_list:\n",
    "        with open(output_file_path, \"w\") as file:\n",
    "            for item in file_list:\n",
    "                file.write(item + \"\\n\")\n",
    "        print(\"File list saved to\", output_file_path)"
   ]
  },
  {
   "cell_type": "code",
   "execution_count": null,
   "metadata": {},
   "outputs": [],
   "source": [
    "# directory_path = \"./1280_720/\"  # Replace with the actual directory path\n",
    "directory_path = \"./1600_720/\"  # Replace with the actual directory path\n",
    "create_file_list(directory_path=directory_path)"
   ]
  },
  {
   "cell_type": "code",
   "execution_count": 3,
   "metadata": {},
   "outputs": [],
   "source": [
    "# 디렉토리의 모든 txt파일을 읽어들여서 필요한 파일 목록을 만든 후, images에 없는 파일을 명단을 저장한다. \n",
    "import os\n",
    "directory_path = \"./1600_720/\"\n",
    "def check_missing_files(directory_path):\n",
    "    target_files = list_png_files(directory_path)\n",
    "    missing_files = []\n",
    "    for t in target_files:\n",
    "        if not os.path.isfile(os.path.join(directory_path, \"images\", t)):\n",
    "            missing_files.append(t)\n",
    "    return missing_files\n",
    "def list_png_files(directory_path):\n",
    "    # List all files and directories in the specified directory\n",
    "    file_list = []\n",
    "    for item in os.listdir(directory_path):\n",
    "        item_path = os.path.join(directory_path, item)\n",
    "        if os.path.isfile(item_path):\n",
    "            if item.split('.')[-1] == 'txt':\n",
    "                with open(os.path.join(directory_path, item), \"r\") as file:\n",
    "                    lines = [f.strip() for f in file.readlines() if '.png' in f]  # Read all lines into a list\n",
    "                file_list.extend(lines)\n",
    "        elif os.path.isdir(item_path):\n",
    "            if not item == \"images\":\n",
    "                # print(f\"going deeper to {item_path}\")\n",
    "                res = list_png_files(item_path)\n",
    "                if res: \n",
    "                    file_list.extend(res)\n",
    "    return list(set(file_list))\n"
   ]
  },
  {
   "cell_type": "code",
   "execution_count": 6,
   "metadata": {},
   "outputs": [
    {
     "data": {
      "text/plain": [
       "['ok4.png',\n",
       " 'next2.png',\n",
       " 'is.png',\n",
       " 'sortie_raid.png',\n",
       " 'close.png',\n",
       " 'select_chapter.png',\n",
       " 'sortie_eq.png',\n",
       " 'ok_raid.png',\n",
       " 'ok_recover.png',\n",
       " 'to_is3.png',\n",
       " 'ok_skip_battle.png',\n",
       " 'ok2.png',\n",
       " 'sortie2.png',\n",
       " 'to_is2.png',\n",
       " 'give_up.png',\n",
       " 'cancel_summon.png',\n",
       " 'to_is.png',\n",
       " 'common.png',\n",
       " '3x_room.png',\n",
       " 'create_room.png',\n",
       " 'continue.png',\n",
       " 'yes.png',\n",
       " 'ok3.png',\n",
       " 'later2.png']"
      ]
     },
     "execution_count": 6,
     "metadata": {},
     "output_type": "execute_result"
    }
   ],
   "source": [
    "directory_path = \"./1920_1080/\"\n",
    "directory_path = \"./1600_720/\"\n",
    "# directory_path = \"./1280_720/\"\n",
    "res = check_missing_files(directory_path)\n",
    "res"
   ]
  }
 ],
 "metadata": {
  "kernelspec": {
   "display_name": "py311",
   "language": "python",
   "name": "python3"
  },
  "language_info": {
   "codemirror_mode": {
    "name": "ipython",
    "version": 3
   },
   "file_extension": ".py",
   "mimetype": "text/x-python",
   "name": "python",
   "nbconvert_exporter": "python",
   "pygments_lexer": "ipython3",
   "version": "3.11.0"
  },
  "orig_nbformat": 4
 },
 "nbformat": 4,
 "nbformat_minor": 2
}
