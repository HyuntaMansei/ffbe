{
 "cells": [
  {
   "cell_type": "code",
   "execution_count": 1,
   "metadata": {},
   "outputs": [],
   "source": [
    "import os\n",
    "import re"
   ]
  },
  {
   "cell_type": "code",
   "execution_count": null,
   "metadata": {},
   "outputs": [],
   "source": [
    "path = r'C:\\Users\\jchoi\\Coding\\python\\ffbe\\a_orders\\multi_client_any\\kc.txt'\n",
    "with open(path,'r') as f:\n",
    "    lines = f.readlines()\n",
    "p = re.compile('\\[\\d*\\]')\n",
    "kc_list = []\n",
    "img_list = []\n",
    "for l in lines:\n",
    "    m = re.match(p, l)\n",
    "    if m:\n",
    "        if img_list:\n",
    "            kc_list.append({'time':(int(cur_time)), 'targets':img_list})\n",
    "        cur_time = m.group()[1:-1]\n",
    "        img_list = []\n",
    "    else:\n",
    "        img_list.append(l.strip())\n",
    "if img_list:\n",
    "    kc_list.append({'time':(int(cur_time)), 'targets':img_list})\n",
    "kc_list"
   ]
  },
  {
   "cell_type": "code",
   "execution_count": 75,
   "metadata": {},
   "outputs": [
    {
     "data": {
      "text/plain": [
       "[{'time': 1,\n",
       "  'targets': ['another_world.png',\n",
       "   'cancel.png',\n",
       "   'cancel_summon.png',\n",
       "   'close.png',\n",
       "   'is.png',\n",
       "   'multi.png',\n",
       "   'no.png',\n",
       "   'ok.png',\n",
       "   'ok_recover.png',\n",
       "   'retry.png',\n",
       "   'to_is.png',\n",
       "   'x.png',\n",
       "   'x_multi.png'],\n",
       "  'start': ['another_world.png',\n",
       "   'return_to_multi_quest.png',\n",
       "   'is.png',\n",
       "   'multi.png',\n",
       "   'select_quest.png',\n",
       "   'to_is.png',\n",
       "   'select_play_style.png'],\n",
       "  'finish': ['recruit_list.png']},\n",
       " {'time': 2,\n",
       "  'targets': ['another_world.png', 'menu_open.png'],\n",
       "  'start': ['ticket_summon_list.png'],\n",
       "  'finish': ['multi.png']}]"
      ]
     },
     "execution_count": 75,
     "metadata": {},
     "output_type": "execute_result"
    }
   ],
   "source": [
    "path = r'C:\\Users\\jchoi\\Coding\\python\\ffbe\\a_orders\\multi_client_any\\kc_cond.txt'\n",
    "with open(path,'r') as f:\n",
    "    lines = f.readlines()\n",
    "p = re.compile('\\[.*\\]')\n",
    "kc_cond_list = []\n",
    "img_dict = {}\n",
    "for l in lines:\n",
    "    m = re.match(p, l)\n",
    "    if m:\n",
    "        label = m.group()[1:-1]\n",
    "        if re.match('\\d+',label):\n",
    "            if img_dict:\n",
    "                kc_cond_list.append({'time':(int(cur_time)),'targets':img_dict['target'],'start':img_dict['start'],'finish':img_dict['finish']})\n",
    "            cur_time = m.group()[1:-1]\n",
    "            img_dict = {}\n",
    "            cur_img_category = 'target'\n",
    "            img_dict[cur_img_category] = []\n",
    "        elif label == 'start':\n",
    "            cur_img_category = 'start'\n",
    "            img_dict[cur_img_category] = []\n",
    "        elif label == 'finish':\n",
    "            cur_img_category = 'finish'\n",
    "            img_dict[cur_img_category] = []\n",
    "    else:\n",
    "        if l.strip():\n",
    "            img_dict[cur_img_category].append(l.strip())\n",
    "if img_dict:\n",
    "    kc_cond_list.append({'time':(int(cur_time)),'targets':img_dict['target'],'start':img_dict['start'],'finish':img_dict['finish']})\n",
    "kc_cond_list"
   ]
  },
  {
   "cell_type": "code",
   "execution_count": 62,
   "metadata": {},
   "outputs": [],
   "source": [
    "path = r'C:\\Users\\jchoi\\Coding\\python\\ffbe\\a_orders\\multi_client_any\\kc_cond.txt'\n",
    "with open(path,'r') as f:\n",
    "    lines = f.readlines()\n",
    "p = re.compile('\\[.*\\]')\n",
    "res = re.match(p, lines[1])\n",
    "if res:\n",
    "    print(res.group()[1:-1])"
   ]
  },
  {
   "cell_type": "code",
   "execution_count": 76,
   "metadata": {},
   "outputs": [
    {
     "ename": "NameError",
     "evalue": "name 'filepath' is not defined",
     "output_type": "error",
     "traceback": [
      "\u001b[1;31m---------------------------------------------------------------------------\u001b[0m",
      "\u001b[1;31mNameError\u001b[0m                                 Traceback (most recent call last)",
      "Cell \u001b[1;32mIn[76], line 1\u001b[0m\n\u001b[1;32m----> 1\u001b[0m \u001b[39mwith\u001b[39;00m \u001b[39mopen\u001b[39m(filepath, \u001b[39m'\u001b[39m\u001b[39mr\u001b[39m\u001b[39m'\u001b[39m) \u001b[39mas\u001b[39;00m f:\n\u001b[0;32m      2\u001b[0m     lines \u001b[39m=\u001b[39m f\u001b[39m.\u001b[39mreadlines()\n\u001b[0;32m      3\u001b[0m p \u001b[39m=\u001b[39m re\u001b[39m.\u001b[39mcompile(\u001b[39m'\u001b[39m\u001b[39m\\\u001b[39m\u001b[39m[.+\u001b[39m\u001b[39m\\\u001b[39m\u001b[39m]\u001b[39m\u001b[39m'\u001b[39m)\n",
      "\u001b[1;31mNameError\u001b[0m: name 'filepath' is not defined"
     ]
    }
   ],
   "source": [
    "filepath = './coordinates.txt'\n",
    "with open(filepath, 'r') as f:\n",
    "    lines = f.readlines()\n",
    "p = re.compile('\\[.+\\]')\n",
    "config_dict = {}\n",
    "content = []\n",
    "for l in lines:\n",
    "    m = re.match(p,l)\n",
    "    if m:\n",
    "        if content:\n",
    "            config_dict[cur_label] = content\n",
    "        cur_label = m.group()\n",
    "        content = []\n",
    "    else:\n",
    "        content.append(l)\n",
    "if content:\n",
    "    config_dict[cur_label] = content"
   ]
  }
 ],
 "metadata": {
  "kernelspec": {
   "display_name": "py311",
   "language": "python",
   "name": "python3"
  },
  "language_info": {
   "codemirror_mode": {
    "name": "ipython",
    "version": 3
   },
   "file_extension": ".py",
   "mimetype": "text/x-python",
   "name": "python",
   "nbconvert_exporter": "python",
   "pygments_lexer": "ipython3",
   "version": "3.11.0"
  },
  "orig_nbformat": 4
 },
 "nbformat": 4,
 "nbformat_minor": 2
}
