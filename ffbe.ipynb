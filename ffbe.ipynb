{
 "cells": [
  {
   "cell_type": "code",
   "execution_count": 77,
   "metadata": {},
   "outputs": [
    {
     "name": "stdout",
     "output_type": "stream",
     "text": [
      "[<ppadb.device.Device object at 0x000001FFD25C30D0>, <ppadb.device.Device object at 0x000001FFD25C2210>]\n"
     ]
    }
   ],
   "source": [
    "import win32gui\n",
    "import win32con\n",
    "import time\n",
    "import automator\n",
    "import importlib\n",
    "importlib.reload(automator)\n",
    "\n",
    "from ppadb.client import Client as AdbClient\n",
    "#first one=62001\n",
    "#second one=62025\n",
    "my_client = AdbClient()\n",
    "print(my_client.devices())\n",
    "my_device = my_client.devices()[0]\n",
    "\n",
    "hwnd_hyuntamansei = win32gui.FindWindow(None, \"hyuntamansei\")\n",
    "hwnd_jchoi82kor = win32gui.FindWindow(None, \"jchoi82kor\")"
   ]
  },
  {
   "cell_type": "code",
   "execution_count": 79,
   "metadata": {},
   "outputs": [
    {
     "name": "stdout",
     "output_type": "stream",
     "text": [
      "(1868, 722)\n",
      "(1950, 1131)\n",
      "selecting chapter\n",
      "Locating: Box(left=165, top=340, width=176, height=74), center:(253, 377)\n",
      "Saving sc.png\n",
      "clicking as dev xy: (1536, 333)\n",
      "clicking sortie\n",
      "Locating: Box(left=1602, top=1006, width=102, height=57), center:(1653, 1034)\n",
      "Saving sc.png\n",
      "clicking as dev xy: (1653, 1007)\n",
      "after clicking sortie\n",
      "before battle, story skip\n",
      "clicking as dev xy: (1853, 166)\n",
      "clicking as dev xy: (1818, 62)\n",
      "before battle, story skip\n",
      "clicking as dev xy: (1853, 166)\n",
      "clicking as dev xy: (1818, 62)\n",
      "before battle, story skip\n",
      "clicking as dev xy: (1853, 166)\n",
      "clicking as dev xy: (1818, 62)\n",
      "Locating: Box(left=1479, top=82, width=137, height=36), center:(1547, 100)\n",
      "Saving sc.png\n",
      "in battle stage\n",
      "Mission complete\n",
      "Until end_of_quest\n",
      "Until end_of_quest\n",
      "Until end_of_quest\n",
      "Until end_of_quest\n",
      "Until end_of_quest\n",
      "Locating: Box(left=1556, top=1038, width=110, height=53), center:(1611, 1064)\n",
      "Saving sc.png\n",
      "clicking as dev xy: (1611, 1037)\n",
      "Until end_of_quest\n",
      "Locating: Box(left=1556, top=1038, width=110, height=53), center:(1611, 1064)\n",
      "Saving sc.png\n",
      "clicking as dev xy: (1611, 1037)\n",
      "Locating: Box(left=1503, top=1006, width=218, height=74), center:(1612, 1043)\n",
      "Saving sc.png\n",
      "clicking as dev xy: (1612, 1016)\n",
      "The quest ended\n",
      "after batlle, until 'select chapter', repeating, ... story skip, count=0\n",
      "clicking as dev xy: (1853, 166)\n",
      "clicking as dev xy: (1818, 62)\n",
      "after batlle, until 'select chapter', repeating, ... story skip, count=1\n",
      "clicking as dev xy: (1853, 166)\n",
      "clicking as dev xy: (1818, 62)\n",
      "Locating: Box(left=1463, top=1020, width=124, height=103), center:(1525, 1071)\n",
      "Saving sc.png\n",
      "clicking as dev xy: (1525, 1044)\n",
      "Locating: Box(left=165, top=340, width=176, height=74), center:(253, 377)\n",
      "Saving sc.png\n",
      "Completed: 1 times\n",
      "selecting chapter\n",
      "Locating: Box(left=165, top=340, width=176, height=74), center:(253, 377)\n",
      "Saving sc.png\n",
      "clicking as dev xy: (1536, 333)\n",
      "clicking sortie\n",
      "Locating: Box(left=1602, top=1006, width=102, height=57), center:(1653, 1034)\n",
      "Saving sc.png\n",
      "clicking as dev xy: (1653, 1007)\n",
      "after clicking sortie\n",
      "before battle, story skip\n",
      "clicking as dev xy: (1853, 166)\n",
      "clicking as dev xy: (1818, 62)\n",
      "before battle, story skip\n",
      "clicking as dev xy: (1853, 166)\n",
      "clicking as dev xy: (1818, 62)\n",
      "before battle, story skip\n",
      "clicking as dev xy: (1853, 166)\n",
      "clicking as dev xy: (1818, 62)\n",
      "before battle, story skip\n",
      "clicking as dev xy: (1853, 166)\n",
      "clicking as dev xy: (1818, 62)\n",
      "Locating: Box(left=1479, top=82, width=137, height=36), center:(1547, 100)\n",
      "Saving sc.png\n",
      "in battle stage\n",
      "Mission complete\n",
      "Until end_of_quest\n",
      "Locating: Box(left=1556, top=1038, width=110, height=53), center:(1611, 1064)\n",
      "Saving sc.png\n",
      "clicking as dev xy: (1611, 1037)\n",
      "Locating: Box(left=1556, top=1038, width=110, height=53), center:(1611, 1064)\n",
      "Saving sc.png\n",
      "clicking as dev xy: (1611, 1037)\n",
      "Until end_of_quest\n",
      "Locating: Box(left=1556, top=1038, width=110, height=53), center:(1611, 1064)\n",
      "Saving sc.png\n",
      "clicking as dev xy: (1611, 1037)\n",
      "Locating: Box(left=1556, top=1038, width=110, height=53), center:(1611, 1064)\n",
      "Saving sc.png\n",
      "clicking as dev xy: (1611, 1037)\n",
      "Until end_of_quest\n",
      "Locating: Box(left=1556, top=1038, width=110, height=53), center:(1611, 1064)\n",
      "Saving sc.png\n",
      "clicking as dev xy: (1611, 1037)\n",
      "Locating: Box(left=1503, top=1006, width=218, height=74), center:(1612, 1043)\n",
      "Saving sc.png\n",
      "clicking as dev xy: (1612, 1016)\n",
      "The quest ended\n",
      "Locating: Box(left=165, top=340, width=176, height=74), center:(253, 377)\n",
      "Saving sc.png\n",
      "Completed: 2 times\n",
      "selecting chapter\n",
      "Locating: Box(left=165, top=340, width=176, height=74), center:(253, 377)\n",
      "Saving sc.png\n",
      "clicking as dev xy: (1536, 333)\n",
      "clicking sortie\n",
      "Locating: Box(left=1602, top=1006, width=102, height=57), center:(1653, 1034)\n",
      "Saving sc.png\n",
      "clicking as dev xy: (1653, 1007)\n",
      "after clicking sortie\n",
      "before battle, story skip\n",
      "clicking as dev xy: (1853, 166)\n",
      "clicking as dev xy: (1818, 62)\n",
      "before battle, story skip\n",
      "clicking as dev xy: (1853, 166)\n",
      "clicking as dev xy: (1818, 62)\n",
      "before battle, story skip\n",
      "clicking as dev xy: (1853, 166)\n",
      "clicking as dev xy: (1818, 62)\n",
      "Locating: Box(left=1479, top=82, width=137, height=36), center:(1547, 100)\n",
      "Saving sc.png\n",
      "in battle stage\n"
     ]
    },
    {
     "ename": "KeyboardInterrupt",
     "evalue": "",
     "output_type": "error",
     "traceback": [
      "\u001b[1;31m---------------------------------------------------------------------------\u001b[0m",
      "\u001b[1;31mKeyboardInterrupt\u001b[0m                         Traceback (most recent call last)",
      "Cell \u001b[1;32mIn[79], line 28\u001b[0m\n\u001b[0;32m     26\u001b[0m     time\u001b[39m.\u001b[39msleep(\u001b[39m5\u001b[39m)\n\u001b[0;32m     27\u001b[0m \u001b[39mprint\u001b[39m(\u001b[39m\"\u001b[39m\u001b[39min battle stage\u001b[39m\u001b[39m\"\u001b[39m)\n\u001b[1;32m---> 28\u001b[0m nox_hyuntamansei\u001b[39m.\u001b[39;49mlocate(\u001b[39m'\u001b[39;49m\u001b[39mnext\u001b[39;49m\u001b[39m'\u001b[39;49m, trial_number\u001b[39m=\u001b[39;49m\u001b[39m600\u001b[39;49m)\n\u001b[0;32m     29\u001b[0m \u001b[39mprint\u001b[39m(\u001b[39m\"\u001b[39m\u001b[39mMission complete\u001b[39m\u001b[39m\"\u001b[39m)\n\u001b[0;32m     30\u001b[0m time\u001b[39m.\u001b[39msleep(\u001b[39m10\u001b[39m)\n",
      "File \u001b[1;32mc:\\Users\\jchoi\\Coding\\python\\ffbe\\automator.py:54\u001b[0m, in \u001b[0;36mAutomator.locate\u001b[1;34m(self, img_name, trial_number)\u001b[0m\n\u001b[0;32m     52\u001b[0m img \u001b[39m=\u001b[39m \u001b[39mself\u001b[39m\u001b[39m.\u001b[39msct\u001b[39m.\u001b[39mgrab(\u001b[39mself\u001b[39m\u001b[39m.\u001b[39mrect)\n\u001b[0;32m     53\u001b[0m pil_img \u001b[39m=\u001b[39m Image\u001b[39m.\u001b[39mfrombytes(\u001b[39m\"\u001b[39m\u001b[39mRGB\u001b[39m\u001b[39m\"\u001b[39m, img\u001b[39m.\u001b[39msize, img\u001b[39m.\u001b[39mbgra, \u001b[39m\"\u001b[39m\u001b[39mraw\u001b[39m\u001b[39m\"\u001b[39m, \u001b[39m\"\u001b[39m\u001b[39mBGRX\u001b[39m\u001b[39m\"\u001b[39m)\n\u001b[1;32m---> 54\u001b[0m loc \u001b[39m=\u001b[39m pyautogui\u001b[39m.\u001b[39;49mlocate(\u001b[39mself\u001b[39;49m\u001b[39m.\u001b[39;49mget_path(img_name), pil_img, confidence\u001b[39m=\u001b[39;49m\u001b[39mself\u001b[39;49m\u001b[39m.\u001b[39;49mconfidence)\n\u001b[0;32m     55\u001b[0m \u001b[39mif\u001b[39;00m loc \u001b[39m!=\u001b[39m \u001b[39mNone\u001b[39;00m:\n\u001b[0;32m     56\u001b[0m     \u001b[39mprint\u001b[39m(\u001b[39mf\u001b[39m\u001b[39m\"\u001b[39m\u001b[39mLocating: \u001b[39m\u001b[39m{\u001b[39;00mloc\u001b[39m}\u001b[39;00m\u001b[39m, center:\u001b[39m\u001b[39m{\u001b[39;00mloc[\u001b[39m0\u001b[39m]\u001b[39m+\u001b[39m\u001b[39mint\u001b[39m(loc[\u001b[39m2\u001b[39m]\u001b[39m/\u001b[39m\u001b[39m2\u001b[39m),\u001b[39m \u001b[39mloc[\u001b[39m1\u001b[39m]\u001b[39m+\u001b[39m\u001b[39mint\u001b[39m(loc[\u001b[39m3\u001b[39m]\u001b[39m/\u001b[39m\u001b[39m2\u001b[39m)\u001b[39m}\u001b[39;00m\u001b[39m\"\u001b[39m)\n",
      "File \u001b[1;32mc:\\Users\\jchoi\\anaconda3\\envs\\py311\\Lib\\site-packages\\pyautogui\\__init__.py:175\u001b[0m, in \u001b[0;36mraisePyAutoGUIImageNotFoundException.<locals>.wrapper\u001b[1;34m(*args, **kwargs)\u001b[0m\n\u001b[0;32m    172\u001b[0m \u001b[39m@functools\u001b[39m\u001b[39m.\u001b[39mwraps(wrappedFunction)\n\u001b[0;32m    173\u001b[0m \u001b[39mdef\u001b[39;00m \u001b[39mwrapper\u001b[39m(\u001b[39m*\u001b[39margs, \u001b[39m*\u001b[39m\u001b[39m*\u001b[39mkwargs):\n\u001b[0;32m    174\u001b[0m     \u001b[39mtry\u001b[39;00m:\n\u001b[1;32m--> 175\u001b[0m         \u001b[39mreturn\u001b[39;00m wrappedFunction(\u001b[39m*\u001b[39;49margs, \u001b[39m*\u001b[39;49m\u001b[39m*\u001b[39;49mkwargs)\n\u001b[0;32m    176\u001b[0m     \u001b[39mexcept\u001b[39;00m pyscreeze\u001b[39m.\u001b[39mImageNotFoundException:\n\u001b[0;32m    177\u001b[0m         \u001b[39mraise\u001b[39;00m ImageNotFoundException\n",
      "File \u001b[1;32mc:\\Users\\jchoi\\anaconda3\\envs\\py311\\Lib\\site-packages\\pyautogui\\__init__.py:189\u001b[0m, in \u001b[0;36mlocate\u001b[1;34m(*args, **kwargs)\u001b[0m\n\u001b[0;32m    187\u001b[0m \u001b[39m@raisePyAutoGUIImageNotFoundException\u001b[39m\n\u001b[0;32m    188\u001b[0m \u001b[39mdef\u001b[39;00m \u001b[39mlocate\u001b[39m(\u001b[39m*\u001b[39margs, \u001b[39m*\u001b[39m\u001b[39m*\u001b[39mkwargs):\n\u001b[1;32m--> 189\u001b[0m     \u001b[39mreturn\u001b[39;00m pyscreeze\u001b[39m.\u001b[39;49mlocate(\u001b[39m*\u001b[39;49margs, \u001b[39m*\u001b[39;49m\u001b[39m*\u001b[39;49mkwargs)\n",
      "File \u001b[1;32mc:\\Users\\jchoi\\anaconda3\\envs\\py311\\Lib\\site-packages\\pyscreeze\\__init__.py:353\u001b[0m, in \u001b[0;36mlocate\u001b[1;34m(needleImage, haystackImage, **kwargs)\u001b[0m\n\u001b[0;32m    351\u001b[0m \u001b[39m# Note: The gymnastics in this function is because we want to make sure to exhaust the iterator so that the needle and haystack files are closed in locateAll.\u001b[39;00m\n\u001b[0;32m    352\u001b[0m kwargs[\u001b[39m'\u001b[39m\u001b[39mlimit\u001b[39m\u001b[39m'\u001b[39m] \u001b[39m=\u001b[39m \u001b[39m1\u001b[39m\n\u001b[1;32m--> 353\u001b[0m points \u001b[39m=\u001b[39m \u001b[39mtuple\u001b[39m(locateAll(needleImage, haystackImage, \u001b[39m*\u001b[39m\u001b[39m*\u001b[39mkwargs))\n\u001b[0;32m    354\u001b[0m \u001b[39mif\u001b[39;00m \u001b[39mlen\u001b[39m(points) \u001b[39m>\u001b[39m \u001b[39m0\u001b[39m:\n\u001b[0;32m    355\u001b[0m     \u001b[39mreturn\u001b[39;00m points[\u001b[39m0\u001b[39m]\n",
      "File \u001b[1;32mc:\\Users\\jchoi\\anaconda3\\envs\\py311\\Lib\\site-packages\\pyscreeze\\__init__.py:229\u001b[0m, in \u001b[0;36m_locateAll_opencv\u001b[1;34m(needleImage, haystackImage, grayscale, limit, region, step, confidence)\u001b[0m\n\u001b[0;32m    226\u001b[0m     step \u001b[39m=\u001b[39m \u001b[39m1\u001b[39m\n\u001b[0;32m    228\u001b[0m \u001b[39m# get all matches at once, credit: https://stackoverflow.com/questions/7670112/finding-a-subimage-inside-a-numpy-image/9253805#9253805\u001b[39;00m\n\u001b[1;32m--> 229\u001b[0m result \u001b[39m=\u001b[39m cv2\u001b[39m.\u001b[39;49mmatchTemplate(haystackImage, needleImage, cv2\u001b[39m.\u001b[39;49mTM_CCOEFF_NORMED)\n\u001b[0;32m    230\u001b[0m match_indices \u001b[39m=\u001b[39m numpy\u001b[39m.\u001b[39marange(result\u001b[39m.\u001b[39msize)[(result \u001b[39m>\u001b[39m confidence)\u001b[39m.\u001b[39mflatten()]\n\u001b[0;32m    231\u001b[0m matches \u001b[39m=\u001b[39m numpy\u001b[39m.\u001b[39munravel_index(match_indices[:limit], result\u001b[39m.\u001b[39mshape)\n",
      "\u001b[1;31mKeyboardInterrupt\u001b[0m: "
     ]
    }
   ],
   "source": [
    "nox_hyuntamansei = automator.Automator(hwnd_hyuntamansei, './nox_images/')\n",
    "# nox_hyuntamansei = automator.Automator(hwnd_hyuntamansei, './bluestack_images/')\n",
    "nox_hyuntamansei.confidence=0.8\n",
    "nox_hyuntamansei.load_conf('nox')\n",
    "nox_hyuntamansei.read_coor('./coor.ini')\n",
    "nox_hyuntamansei.read_coor()\n",
    "nox_hyuntamansei.connect_click_method(my_device.input_tap)\n",
    "\n",
    "for cnt in range(100):\n",
    "    #퀘스트 자동 진행\n",
    "    print(\"selecting chapter\")\n",
    "    while nox_hyuntamansei.wait_and_click('select_chapter', xy='top_quest', trial_number=30) == None:\n",
    "        nox_hyuntamansei.locate_and_click('story')\n",
    "        time.sleep(1)\n",
    "    print(\"clicking sortie\")\n",
    "    nox_hyuntamansei.wait_and_click('sortie')\n",
    "    print(\"after clicking sortie\")\n",
    "    time.sleep(5)\n",
    "    ##skip 하기 누르기\n",
    "    while nox_hyuntamansei.locate('auto') == None:\n",
    "        nox_hyuntamansei.locate_and_click('sortie')\n",
    "        print(\"before battle, story skip\")\n",
    "        nox_hyuntamansei.click('story_skip1')\n",
    "        time.sleep(1)\n",
    "        nox_hyuntamansei.click('story_skip2')\n",
    "        time.sleep(5)\n",
    "    print(\"in battle stage\")\n",
    "    nox_hyuntamansei.locate('next', trial_number=600)\n",
    "    print(\"Mission complete\")\n",
    "    time.sleep(10)\n",
    "    while nox_hyuntamansei.locate_and_click('end_of_quest') == None:\n",
    "        print(\"Until end_of_quest\")\n",
    "        nox_hyuntamansei.locate_and_click('next')\n",
    "        # nox_hyuntamansei.locate_and_click('x')\n",
    "        time.sleep(2)\n",
    "        nox_hyuntamansei.wait_and_click('next')\n",
    "        # nox_hyuntamansei.locate_and_click('x')\n",
    "        time.sleep(2)\n",
    "        nox_hyuntamansei.locate_and_click('later')\n",
    "        nox_hyuntamansei.locate_and_click('close')\n",
    "    time.sleep(2)\n",
    "    nox_hyuntamansei.locate_and_click('end_of_quest')\n",
    "    print(\"The quest ended\")\n",
    "    time.sleep(10)\n",
    "    count = 0\n",
    "    while nox_hyuntamansei.locate('select_chapter') == None:\n",
    "        print(f\"after batlle, until 'select chapter', repeating, ... story skip, count={count}\")\n",
    "        nox_hyuntamansei.locate_and_click('ok')\n",
    "        nox_hyuntamansei.locate_and_click('later')\n",
    "        nox_hyuntamansei.locate_and_click('close')\n",
    "        nox_hyuntamansei.click('story_skip1')\n",
    "        time.sleep(1)\n",
    "        nox_hyuntamansei.click('story_skip2')\n",
    "        time.sleep(5)\n",
    "        count += 1\n",
    "        nox_hyuntamansei.locate_and_click('story')\n",
    "        if count > 10:\n",
    "            break\n",
    "    print(f\"Completed: {cnt+1} times\")"
   ]
  },
  {
   "cell_type": "code",
   "execution_count": 15,
   "metadata": {},
   "outputs": [
    {
     "name": "stdout",
     "output_type": "stream",
     "text": [
      "(-2000, 213)\n",
      "(1905, 1107)\n",
      "Locating: Box(left=1566, top=984, width=102, height=57), center:(1617, 1012)\n",
      "Saving sc.png\n",
      "clicking as dev xy: (1617, 985)\n"
     ]
    },
    {
     "data": {
      "text/plain": [
       "(1617, 985)"
      ]
     },
     "execution_count": 15,
     "metadata": {},
     "output_type": "execute_result"
    }
   ],
   "source": [
    "nox_hyuntamansei = automator.Automator(hwnd_hyuntamansei, './nox_images/')\n",
    "# nox_hyuntamansei = automator.Automator(hwnd_hyuntamansei, './bluestack_images/')\n",
    "nox_hyuntamansei.confidence=0.95\n",
    "nox_hyuntamansei.load_conf('nox')\n",
    "nox_hyuntamansei.read_coor('./coor.ini')\n",
    "nox_hyuntamansei.connect_click_method(my_device.input_tap)\n",
    "\n",
    "# nox_hyuntamansei.locate('sortie')\n",
    "nox_hyuntamansei.locate_and_click('sortie')"
   ]
  },
  {
   "cell_type": "code",
   "execution_count": 10,
   "metadata": {},
   "outputs": [
    {
     "name": "stdout",
     "output_type": "stream",
     "text": [
      "(0, 0, 1905, 1107)\n",
      "(-2000, 213, -95, 1320)\n"
     ]
    }
   ],
   "source": []
  },
  {
   "cell_type": "code",
   "execution_count": 22,
   "metadata": {},
   "outputs": [
    {
     "name": "stdout",
     "output_type": "stream",
     "text": [
      "clicking as dev xy: (1853, 166)\n",
      "clicking as dev xy: (1818, 72)\n"
     ]
    },
    {
     "data": {
      "text/plain": [
       "(1818, 72)"
      ]
     },
     "execution_count": 22,
     "metadata": {},
     "output_type": "execute_result"
    }
   ],
   "source": [
    "nox_hyuntamansei.read_coor()\n",
    "nox_hyuntamansei.click('story_skip1')\n",
    "time.sleep(1)\n",
    "nox_hyuntamansei.click('story_skip2')"
   ]
  }
 ],
 "metadata": {
  "kernelspec": {
   "display_name": "py311",
   "language": "python",
   "name": "python3"
  },
  "language_info": {
   "codemirror_mode": {
    "name": "ipython",
    "version": 3
   },
   "file_extension": ".py",
   "mimetype": "text/x-python",
   "name": "python",
   "nbconvert_exporter": "python",
   "pygments_lexer": "ipython3",
   "version": "3.11.0"
  },
  "orig_nbformat": 4
 },
 "nbformat": 4,
 "nbformat_minor": 2
}
