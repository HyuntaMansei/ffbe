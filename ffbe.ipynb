{
 "cells": [
  {
   "cell_type": "code",
   "execution_count": 2,
   "metadata": {},
   "outputs": [
    {
     "name": "stdout",
     "output_type": "stream",
     "text": [
      "[<ppadb.device.Device object at 0x000001DE7E3E5C10>]\n",
      "0 656032\n"
     ]
    }
   ],
   "source": [
    "import win32gui\n",
    "import win32con\n",
    "import time\n",
    "import automator\n",
    "import importlib\n",
    "importlib.reload(automator)\n",
    "\n",
    "from ppadb.client import Client as AdbClient\n",
    "#first one=62001\n",
    "#second one=62025\n",
    "my_client = AdbClient()\n",
    "print(my_client.devices())\n",
    "my_device = my_client.devices()[0]\n",
    "\n",
    "hwnd_hyuntamansei = win32gui.FindWindow(None, \"hyuntamansei\")\n",
    "hwnd_jchoi82kor = win32gui.FindWindow(None, \"jchoi82kor_facebook\")\n",
    "print(hwnd_hyuntamansei, hwnd_jchoi82kor)"
   ]
  },
  {
   "cell_type": "code",
   "execution_count": 6,
   "metadata": {},
   "outputs": [
    {
     "name": "stdout",
     "output_type": "stream",
     "text": [
      "(252, 377)\n"
     ]
    },
    {
     "data": {
      "text/plain": [
       "''"
      ]
     },
     "execution_count": 6,
     "metadata": {},
     "output_type": "execute_result"
    }
   ],
   "source": [
    "print(my_automator.locate(\"select_chapter\"))\n",
    "my_device.input_tap(200,200)"
   ]
  },
  {
   "cell_type": "code",
   "execution_count": 4,
   "metadata": {},
   "outputs": [
    {
     "name": "stdout",
     "output_type": "stream",
     "text": [
      "selecting chapter\n",
      "selecting acompany\n",
      "clicking sortie\n",
      "after clicking sortie\n",
      "in battle stage\n",
      "Mission complete\n",
      "Until end_of_quest\n",
      "Until end_of_quest\n",
      "Until end_of_quest\n",
      "Until end_of_quest\n",
      "Until end_of_quest\n",
      "Until end_of_quest\n",
      "Until end_of_quest\n",
      "Until end_of_quest\n",
      "Until end_of_quest\n",
      "Until end_of_quest\n",
      "Until end_of_quest\n",
      "Until end_of_quest\n",
      "Until end_of_quest\n"
     ]
    },
    {
     "ename": "KeyboardInterrupt",
     "evalue": "",
     "output_type": "error",
     "traceback": [
      "\u001b[1;31m---------------------------------------------------------------------------\u001b[0m",
      "\u001b[1;31mKeyboardInterrupt\u001b[0m                         Traceback (most recent call last)",
      "Cell \u001b[1;32mIn[4], line 46\u001b[0m\n\u001b[0;32m     44\u001b[0m     my_automator\u001b[39m.\u001b[39mlocate_and_click(\u001b[39m'\u001b[39m\u001b[39mnext\u001b[39m\u001b[39m'\u001b[39m)\n\u001b[0;32m     45\u001b[0m     \u001b[39m# my_automator.locate_and_click('x')\u001b[39;00m\n\u001b[1;32m---> 46\u001b[0m     my_automator\u001b[39m.\u001b[39;49mlocate_and_click(\u001b[39m'\u001b[39;49m\u001b[39mlater\u001b[39;49m\u001b[39m'\u001b[39;49m)\n\u001b[0;32m     47\u001b[0m     my_automator\u001b[39m.\u001b[39mlocate_and_click(\u001b[39m'\u001b[39m\u001b[39mclose\u001b[39m\u001b[39m'\u001b[39m)\n\u001b[0;32m     48\u001b[0m time\u001b[39m.\u001b[39msleep(\u001b[39m2\u001b[39m)\n",
      "File \u001b[1;32mc:\\Users\\jchoi\\Coding\\python\\ffbe\\automator.py:111\u001b[0m, in \u001b[0;36mAutomator.locate_and_click\u001b[1;34m(self, img_name, xy, trial_number)\u001b[0m\n\u001b[0;32m    109\u001b[0m             \u001b[39mself\u001b[39m\u001b[39m.\u001b[39mclick(xy)\n\u001b[0;32m    110\u001b[0m             \u001b[39mreturn\u001b[39;00m loc\n\u001b[1;32m--> 111\u001b[0m     time\u001b[39m.\u001b[39msleep(\u001b[39m1\u001b[39m)\n\u001b[0;32m    112\u001b[0m \u001b[39mreturn\u001b[39;00m \u001b[39mNone\u001b[39;00m\n",
      "\u001b[1;31mKeyboardInterrupt\u001b[0m: "
     ]
    }
   ],
   "source": [
    "# my_automator = automator.Automator(hwnd_jchoi82kor, './nox_1280_720_images/')\n",
    "my_automator = automator.Automator(hwnd_jchoi82kor, './nox_images/')\n",
    "# nox_hyuntamansei = automator.Automator(hwnd_hyuntamansei, './bluestack_images/')\n",
    "my_automator.confidence=0.8\n",
    "my_automator.load_conf('nox')\n",
    "# my_automator.load_conf('nox_1280_720')\n",
    "my_automator.read_coor('./coor.ini')\n",
    "my_automator.read_coor()\n",
    "my_automator.connect_click_method(my_device.input_tap)\n",
    "\n",
    "for cnt in range(300):\n",
    "    #퀘스트 자동 진행\n",
    "    print(\"selecting chapter\")\n",
    "    # while my_automator.locate('select_chapter') == None:\n",
    "    #     my_automator.locate_and_click('story')\n",
    "    #     time.sleep(1)\n",
    "    my_automator.locate_and_click('select_chapter', xy='top_quest', trial_number=5)\n",
    "    print(\"selecting acompany\")\n",
    "    # while my_automator.locate('acompany', trial_number=5):\n",
    "    #     my_automator.locate_and_click('acompany')\n",
    "    #     my_automator.locate_and_click('sephiroth')\n",
    "    #     time.sleep(7)\n",
    "    # my_automator.locate_and_click('acom_sephiroth')\n",
    "    print(\"clicking sortie\")\n",
    "    my_automator.wait_and_click('sortie')\n",
    "    print(\"after clicking sortie\")\n",
    "    time.sleep(15)\n",
    "    ##skip 하기 누르기\n",
    "    while my_automator.locate('auto') == None:\n",
    "        my_automator.locate_and_click('sortie')\n",
    "        print(\"before battle, story skip\")\n",
    "        my_automator.click('story_skip1')\n",
    "        time.sleep(2)\n",
    "        my_automator.click('story_skip2')\n",
    "        time.sleep(5)\n",
    "    print(\"in battle stage\")\n",
    "    my_automator.locate('next', trial_number=600)\n",
    "    print(\"Mission complete\")\n",
    "    time.sleep(10)\n",
    "    while my_automator.locate_and_click('end_of_quest') == None:\n",
    "        print(\"Until end_of_quest\")\n",
    "        my_automator.locate_and_click('next')\n",
    "        # my_automator.locate_and_click('x')\n",
    "        my_automator.locate_and_click('next')\n",
    "        # my_automator.locate_and_click('x')\n",
    "        my_automator.locate_and_click('later')\n",
    "        my_automator.locate_and_click('close')\n",
    "        my_automator.locate_and_click('no_evaluate')\n",
    "    time.sleep(2)\n",
    "    my_automator.locate_and_click('end_of_quest')\n",
    "    print(\"The quest ended\")\n",
    "    time.sleep(10)\n",
    "    count = 0\n",
    "    while my_automator.locate('select_chapter', trial_number=2) == None:\n",
    "        print(f\"after batlle, until 'select chapter', repeating, ... story skip, count={count}\")\n",
    "        my_automator.locate_and_click('ok')\n",
    "        my_automator.locate_and_click('later')\n",
    "        my_automator.locate_and_click('close')\n",
    "        if not my_automator.locate('select_chapter'):\n",
    "            my_automator.click('story_skip1')\n",
    "            time.sleep(1)\n",
    "        if not my_automator.locate('select_chapter'):\n",
    "            my_automator.click('story_skip3')\n",
    "        count += 1\n",
    "        my_automator.locate_and_click('story')\n",
    "    print(f\"Completed: {cnt+1} times\")"
   ]
  },
  {
   "cell_type": "code",
   "execution_count": 15,
   "metadata": {},
   "outputs": [
    {
     "name": "stdout",
     "output_type": "stream",
     "text": [
      "(-2000, 213)\n",
      "(1905, 1107)\n",
      "Locating: Box(left=1566, top=984, width=102, height=57), center:(1617, 1012)\n",
      "Saving sc.png\n",
      "clicking as dev xy: (1617, 985)\n"
     ]
    },
    {
     "data": {
      "text/plain": [
       "(1617, 985)"
      ]
     },
     "execution_count": 15,
     "metadata": {},
     "output_type": "execute_result"
    }
   ],
   "source": [
    "nox_hyuntamansei = automator.Automator(hwnd_hyuntamansei, './nox_images/')\n",
    "# nox_hyuntamansei = automator.Automator(hwnd_hyuntamansei, './bluestack_images/')\n",
    "my_automator.confidence=0.95\n",
    "my_automator.load_conf('nox')\n",
    "my_automator.read_coor('./coor.ini')\n",
    "my_automator.connect_click_method(my_device.input_tap)\n",
    "\n",
    "# my_automator.locate('sortie')\n",
    "my_automator.locate_and_click('sortie')"
   ]
  },
  {
   "cell_type": "code",
   "execution_count": 10,
   "metadata": {},
   "outputs": [
    {
     "name": "stdout",
     "output_type": "stream",
     "text": [
      "(0, 0, 1905, 1107)\n",
      "(-2000, 213, -95, 1320)\n"
     ]
    }
   ],
   "source": []
  },
  {
   "cell_type": "code",
   "execution_count": 22,
   "metadata": {},
   "outputs": [
    {
     "name": "stdout",
     "output_type": "stream",
     "text": [
      "clicking as dev xy: (1853, 166)\n",
      "clicking as dev xy: (1818, 72)\n"
     ]
    },
    {
     "data": {
      "text/plain": [
       "(1818, 72)"
      ]
     },
     "execution_count": 22,
     "metadata": {},
     "output_type": "execute_result"
    }
   ],
   "source": [
    "my_automator.read_coor()\n",
    "my_automator.click('story_skip1')\n",
    "time.sleep(1)\n",
    "my_automator.click('story_skip2')"
   ]
  }
 ],
 "metadata": {
  "kernelspec": {
   "display_name": "py311",
   "language": "python",
   "name": "python3"
  },
  "language_info": {
   "codemirror_mode": {
    "name": "ipython",
    "version": 3
   },
   "file_extension": ".py",
   "mimetype": "text/x-python",
   "name": "python",
   "nbconvert_exporter": "python",
   "pygments_lexer": "ipython3",
   "version": "3.11.0"
  },
  "orig_nbformat": 4
 },
 "nbformat": 4,
 "nbformat_minor": 2
}
