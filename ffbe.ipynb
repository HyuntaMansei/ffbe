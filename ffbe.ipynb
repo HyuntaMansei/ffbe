{
 "cells": [
  {
   "cell_type": "code",
   "execution_count": 7,
   "metadata": {},
   "outputs": [
    {
     "name": "stdout",
     "output_type": "stream",
     "text": [
      "[<ppadb.device.Device object at 0x00000289CD3FEBD0>, <ppadb.device.Device object at 0x00000289CD2FDF50>]\n",
      "3081834\n"
     ]
    }
   ],
   "source": [
    "import win32gui\n",
    "import win32con\n",
    "import time\n",
    "import locator\n",
    "import importlib\n",
    "import ffbe_automator\n",
    "importlib.reload(ffbe_automator)\n",
    "importlib.reload(locator)\n",
    "\n",
    "from ppadb.client import Client as AdbClient\n",
    "#first one=62001\n",
    "#second one=62025\n",
    "my_client = AdbClient()\n",
    "print(my_client.devices())\n",
    "my_device = my_client.devices()[0]\n",
    "\n",
    "# my_hwnd = win32gui.FindWindow(None, \"facebook\")\n",
    "# my_hwnd = win32gui.FindWindow(None, \"SM-N950N\")\n",
    "my_hwnd = win32gui.FindWindow(None, \"SM-G950N\")\n",
    "print(my_hwnd)"
   ]
  },
  {
   "cell_type": "code",
   "execution_count": 16,
   "metadata": {},
   "outputs": [
    {
     "name": "stdout",
     "output_type": "stream",
     "text": [
      "Creating Automator.\n",
      "['__init__', 'create_locator', 'elasped_time', 'init_automation_list', 'init_device', 'init_internal_vars', 'init_other', 'init_time', 'list_all_methos', 'play_multi', 'play_multi_client', 'play_quest', 'play_raid', 'play_raid_client', 'play_raid_host2', 'play_raid_host4', 'set_img_base_path', 'set_job', 'set_msg_handlers', 'set_user_params', 'set_window_and_device', 'skip_battle', 'start_automation', 'stop', 'stop_watch', 'summon', 'test']\n",
      "Testing\n"
     ]
    }
   ],
   "source": [
    "from enum import auto\n",
    "\n",
    "\n",
    "importlib.reload(ffbe_automator)\n",
    "automator = ffbe_automator.Automator()\n",
    "automator.set_msg_handlers(print, print, print)\n",
    "automator.list_all_methos()\n",
    "automator.set_job('play_test')\n",
    "automator.automation_by_job['play_test']()"
   ]
  },
  {
   "cell_type": "code",
   "execution_count": 8,
   "metadata": {},
   "outputs": [
    {
     "data": {
      "text/plain": [
       "'SM-M536S'"
      ]
     },
     "execution_count": 8,
     "metadata": {},
     "output_type": "execute_result"
    }
   ],
   "source": [
    "device_name"
   ]
  },
  {
   "cell_type": "code",
   "execution_count": 6,
   "metadata": {},
   "outputs": [
    {
     "data": {
      "text/plain": [
       "''"
      ]
     },
     "execution_count": 6,
     "metadata": {},
     "output_type": "execute_result"
    }
   ],
   "source": [
    "my_device.input_tap(300,300)"
   ]
  },
  {
   "cell_type": "code",
   "execution_count": 22,
   "metadata": {},
   "outputs": [],
   "source": [
    "# debug msg\n",
    "debug_msg_list = []\n",
    "def debug(msg:str):\n",
    "    if not msg in debug_msg_list:\n",
    "        debug_msg_list.append(msg)\n",
    "        print(msg)\n",
    "def print_all_debug_msg():\n",
    "    cnt = 0\n",
    "    for m in debug_msg_list:\n",
    "        print(f\"{cnt}: {m}\")\n",
    "        cnt += 1"
   ]
  },
  {
   "cell_type": "code",
   "execution_count": null,
   "metadata": {},
   "outputs": [],
   "source": [
    "# quest auto play\n",
    "import datetime\n",
    "# device_type = 'nox_1920_1080'\n",
    "# device_type = 'nox_1280_720'\n",
    "device_type = 'android'\n",
    "\n",
    "if device_type == 'nox_1920_1080':\n",
    "    my_locator = locator.Locator(my_hwnd, './1920_1080/quest/')\n",
    "    my_locator.load_conf('nox_1920_1080')\n",
    "elif device_type == 'nox_1280_720':\n",
    "    my_locator = locator.Locator(my_hwnd, './1280_720/quest/')\n",
    "    my_locator.load_conf('nox_1280_720')\n",
    "elif device_type == 'android':\n",
    "    my_locator = locator.Locator(my_hwnd, './1280_720/quest/')\n",
    "    my_locator.load_conf('android')\n",
    "else:\n",
    "    pass\n",
    "my_locator.confidence=0.85\n",
    "my_locator.connect_click_method(my_device.input_tap)\n",
    "\n",
    "for cnt in range(100):\n",
    "    #퀘스트 자동 진행\n",
    "    print(f\"Starting quest automain. {cnt} times completed.\")\n",
    "    while not my_locator.locate('sortie'):\n",
    "        my_locator.locate_and_click('select_chapter', xy='top_quest')\n",
    "    ##skip 하기 누르기\n",
    "    print(\"Before battle\")\n",
    "    while my_locator.locate('auto') == None:\n",
    "        my_locator.locate_and_click('sortie')\n",
    "        my_locator.click('story_skip1')\n",
    "        time.sleep(2)\n",
    "        my_locator.click('story_skip2')\n",
    "    print(\"In battle stage\")\n",
    "    start_time = time.time()\n",
    "    my_locator.locate('next', trial_number=600)\n",
    "    print(\"Mission complete\")\n",
    "    time.sleep(10)\n",
    "    elasped_time = time.time() - start_time\n",
    "    print(f\"elasped_time: {time.strftime('%M:%S', time.gmtime(elasped_time))}\")\n",
    "    print(\"Until end_of_quest\")\n",
    "    while my_locator.locate('end_of_quest') == None:\n",
    "        my_locator.locate_and_click('next')\n",
    "        my_locator.locate_and_click('close')\n",
    "        my_locator.locate_and_click('later')\n",
    "        my_locator.locate_and_click('no_evaluate')\n",
    "    time.sleep(2)\n",
    "    print(\"The quest ended\")\n",
    "    time.sleep(10)\n",
    "    count = 0\n",
    "    print(f\"after batlle, until 'select chapter', repeating, ... story skip, count={count}\")\n",
    "    while my_locator.locate('select_chapter', trial_number=2) == None:\n",
    "        my_locator.locate_and_click('end_of_quest')\n",
    "        my_locator.locate_and_click('ok')\n",
    "        my_locator.locate_and_click('later')\n",
    "        my_locator.locate_and_click('close')\n",
    "        if not my_locator.locate('select_chapter'):\n",
    "            my_locator.click('story_skip1')\n",
    "            time.sleep(1)\n",
    "        if not my_locator.locate('select_chapter'):\n",
    "            my_locator.click('story_skip3')\n",
    "        count += 1\n",
    "        my_locator.locate_and_click('story')"
   ]
  },
  {
   "cell_type": "code",
   "execution_count": 27,
   "metadata": {},
   "outputs": [
    {
     "name": "stdout",
     "output_type": "stream",
     "text": [
      "Starting multi automation\n",
      "Before battle stage. completed: 0 times\n",
      "Trial number of sortie: No such file: ./1280_720/multi/one_person.png\n",
      "1,"
     ]
    },
    {
     "ename": "KeyboardInterrupt",
     "evalue": "",
     "output_type": "error",
     "traceback": [
      "\u001b[1;31m---------------------------------------------------------------------------\u001b[0m",
      "\u001b[1;31mKeyboardInterrupt\u001b[0m                         Traceback (most recent call last)",
      "Cell \u001b[1;32mIn[27], line 43\u001b[0m\n\u001b[0;32m     41\u001b[0m \u001b[39mif\u001b[39;00m sortie_cond:\n\u001b[0;32m     42\u001b[0m     \u001b[39mprint\u001b[39m(\u001b[39mf\u001b[39m\u001b[39m\"\u001b[39m\u001b[39m{\u001b[39;00msortie_trial_cnt\u001b[39m}\u001b[39;00m\u001b[39m,\u001b[39m\u001b[39m\"\u001b[39m, end\u001b[39m=\u001b[39m\u001b[39m'\u001b[39m\u001b[39m'\u001b[39m)\n\u001b[1;32m---> 43\u001b[0m     my_locator\u001b[39m.\u001b[39;49mlocate_and_click(\u001b[39m'\u001b[39;49m\u001b[39msortie\u001b[39;49m\u001b[39m'\u001b[39;49m)\n\u001b[0;32m     44\u001b[0m     sortie_trial_cnt \u001b[39m+\u001b[39m\u001b[39m=\u001b[39m \u001b[39m1\u001b[39m\n\u001b[0;32m     45\u001b[0m my_locator\u001b[39m.\u001b[39mlocate_and_click(\u001b[39m'\u001b[39m\u001b[39msortie_confirm\u001b[39m\u001b[39m'\u001b[39m)\n",
      "File \u001b[1;32mc:\\Users\\boringstock\\Coding\\Python\\ffbe\\locator.py:118\u001b[0m, in \u001b[0;36mLocator.locate_and_click\u001b[1;34m(self, img_name, xy, trial_number, confidence)\u001b[0m\n\u001b[0;32m    116\u001b[0m \u001b[39mif\u001b[39;00m loc \u001b[39m!=\u001b[39m \u001b[39mNone\u001b[39;00m:\n\u001b[0;32m    117\u001b[0m     \u001b[39mif\u001b[39;00m xy \u001b[39m==\u001b[39m \u001b[39mNone\u001b[39;00m:\n\u001b[1;32m--> 118\u001b[0m         \u001b[39mreturn\u001b[39;00m \u001b[39mself\u001b[39;49m\u001b[39m.\u001b[39;49mclick_on_screen(loc)\n\u001b[0;32m    119\u001b[0m     \u001b[39melse\u001b[39;00m:\n\u001b[0;32m    120\u001b[0m         \u001b[39mself\u001b[39m\u001b[39m.\u001b[39mclick(xy)\n",
      "File \u001b[1;32mc:\\Users\\boringstock\\Coding\\Python\\ffbe\\locator.py:89\u001b[0m, in \u001b[0;36mLocator.click_on_screen\u001b[1;34m(self, xy)\u001b[0m\n\u001b[0;32m     87\u001b[0m     xy \u001b[39m=\u001b[39m (x\u001b[39m-\u001b[39m\u001b[39mself\u001b[39m\u001b[39m.\u001b[39mreal_cli_x0, y\u001b[39m-\u001b[39m\u001b[39mself\u001b[39m\u001b[39m.\u001b[39mreal_cli_y0)\n\u001b[0;32m     88\u001b[0m     \u001b[39m# print(f\"clicking as device xy: {xy}\")\u001b[39;00m\n\u001b[1;32m---> 89\u001b[0m     \u001b[39mself\u001b[39;49m\u001b[39m.\u001b[39;49mclick_on_device(xy[\u001b[39m0\u001b[39;49m], xy[\u001b[39m1\u001b[39;49m])\n\u001b[0;32m     90\u001b[0m     time\u001b[39m.\u001b[39msleep(\u001b[39mself\u001b[39m\u001b[39m.\u001b[39msltime_after_click)\n\u001b[0;32m     91\u001b[0m \u001b[39melse\u001b[39;00m:\n",
      "File \u001b[1;32mc:\\Users\\boringstock\\anaconda3\\envs\\py311\\Lib\\site-packages\\ppadb\\plugins\\device\\input.py:28\u001b[0m, in \u001b[0;36mInput.input_tap\u001b[1;34m(self, x, y)\u001b[0m\n\u001b[0;32m     27\u001b[0m \u001b[39mdef\u001b[39;00m \u001b[39minput_tap\u001b[39m(\u001b[39mself\u001b[39m, x, y):\n\u001b[1;32m---> 28\u001b[0m     \u001b[39mreturn\u001b[39;00m \u001b[39mself\u001b[39;49m\u001b[39m.\u001b[39;49mshell(\u001b[39m\"\u001b[39;49m\u001b[39minput tap \u001b[39;49m\u001b[39m{}\u001b[39;49;00m\u001b[39m \u001b[39;49m\u001b[39m{}\u001b[39;49;00m\u001b[39m\"\u001b[39;49m\u001b[39m.\u001b[39;49mformat(x, y))\n",
      "File \u001b[1;32mc:\\Users\\boringstock\\anaconda3\\envs\\py311\\Lib\\site-packages\\ppadb\\command\\transport\\__init__.py:28\u001b[0m, in \u001b[0;36mTransport.shell\u001b[1;34m(self, cmd, handler, timeout)\u001b[0m\n\u001b[0;32m     26\u001b[0m     handler(conn)\n\u001b[0;32m     27\u001b[0m \u001b[39melse\u001b[39;00m:\n\u001b[1;32m---> 28\u001b[0m     result \u001b[39m=\u001b[39m conn\u001b[39m.\u001b[39;49mread_all()\n\u001b[0;32m     29\u001b[0m     conn\u001b[39m.\u001b[39mclose()\n\u001b[0;32m     30\u001b[0m     \u001b[39mreturn\u001b[39;00m result\u001b[39m.\u001b[39mdecode(\u001b[39m'\u001b[39m\u001b[39mutf-8\u001b[39m\u001b[39m'\u001b[39m)\n",
      "File \u001b[1;32mc:\\Users\\boringstock\\anaconda3\\envs\\py311\\Lib\\site-packages\\ppadb\\connection.py:106\u001b[0m, in \u001b[0;36mConnection.read_all\u001b[1;34m(self)\u001b[0m\n\u001b[0;32m    103\u001b[0m data \u001b[39m=\u001b[39m \u001b[39mbytearray\u001b[39m()\n\u001b[0;32m    105\u001b[0m \u001b[39mwhile\u001b[39;00m \u001b[39mTrue\u001b[39;00m:\n\u001b[1;32m--> 106\u001b[0m     recv \u001b[39m=\u001b[39m \u001b[39mself\u001b[39;49m\u001b[39m.\u001b[39;49m_recv(\u001b[39m4096\u001b[39;49m)\n\u001b[0;32m    107\u001b[0m     \u001b[39mif\u001b[39;00m \u001b[39mnot\u001b[39;00m recv:\n\u001b[0;32m    108\u001b[0m         \u001b[39mbreak\u001b[39;00m\n",
      "File \u001b[1;32mc:\\Users\\boringstock\\anaconda3\\envs\\py311\\Lib\\site-packages\\ppadb\\connection.py:63\u001b[0m, in \u001b[0;36mConnection._recv\u001b[1;34m(self, length)\u001b[0m\n\u001b[0;32m     62\u001b[0m \u001b[39mdef\u001b[39;00m \u001b[39m_recv\u001b[39m(\u001b[39mself\u001b[39m, length):\n\u001b[1;32m---> 63\u001b[0m     \u001b[39mreturn\u001b[39;00m \u001b[39mself\u001b[39;49m\u001b[39m.\u001b[39;49msocket\u001b[39m.\u001b[39;49mrecv(length)\n",
      "\u001b[1;31mKeyboardInterrupt\u001b[0m: "
     ]
    }
   ],
   "source": [
    "# multi auto play\n",
    "import datetime\n",
    "device_type = 'android'\n",
    "rep_time = 20\n",
    "num_of_players = 2\n",
    "before_battle_cnt_limit = 40 * num_of_players\n",
    "\n",
    "if device_type == 'nox_1920_1080':\n",
    "    my_locator = locator.Locator(my_hwnd, './1920_1080/multi/')\n",
    "    my_locator.load_conf('nox_1920_1080')\n",
    "elif device_type == 'nox_1280_720':\n",
    "    my_locator = locator.Locator(my_hwnd, './1280_720/multi/')\n",
    "    my_locator.load_conf('nox_1280_720')\n",
    "elif device_type == 'android':\n",
    "    my_locator = locator.Locator(my_hwnd, './1280_720/multi/')\n",
    "    my_locator.load_conf('android')\n",
    "else:\n",
    "    pass\n",
    "my_locator.confidence=0.95\n",
    "my_locator.connect_click_method(my_device.input_tap)\n",
    "\n",
    "print(\"Starting multi automation\")\n",
    "for cnt in range(rep_time):\n",
    "    print(f\"Before battle stage. completed: {cnt} times\")\n",
    "    before_battle_cnt = 0\n",
    "    print(\"Trial number of sortie: \", end='')\n",
    "    sortie_trial_cnt = 1\n",
    "    while not my_locator.locate('auto'):\n",
    "        sortie_cond = False\n",
    "        if num_of_players == 1:\n",
    "            sortie_cond = True\n",
    "        elif num_of_players == 2:\n",
    "            if not my_locator.locate('one_person'):\n",
    "                sortie_cond = True\n",
    "        elif num_of_players == 3:\n",
    "            if (my_locator.locate('three_people')) or (my_locator.locate('four_people')):\n",
    "                sortie_cond = True\n",
    "        elif num_of_players == 4:\n",
    "            if (my_locator.locate('four_people')):\n",
    "                sortie_cond = True\n",
    "        if sortie_cond:\n",
    "            print(f\"{sortie_trial_cnt},\", end='')\n",
    "            my_locator.locate_and_click('sortie')\n",
    "            sortie_trial_cnt += 1\n",
    "        my_locator.locate_and_click('sortie_confirm')\n",
    "        # my_locator.locate_and_click('not_auto')\n",
    "        # my_locator.locate_and_click('ok')\n",
    "        before_battle_cnt += 1\n",
    "        if before_battle_cnt > 10:\n",
    "             while my_locator.locate('checking_the_result'):\n",
    "                my_locator.locate_and_click('checking_the_result')\n",
    "                my_locator.locate_and_click('expel')\n",
    "        if before_battle_cnt > before_battle_cnt_limit:\n",
    "            print(\"Kicking all out!\")            \n",
    "            while(not my_locator.locate('one_person')):\n",
    "                my_locator.locate_and_click('kick_out')\n",
    "                my_locator.locate_and_click('expel')\n",
    "            before_battle_cnt = 0\n",
    "            sortie_trial_cnt\n",
    "    print(\"In battle stage\")\n",
    "    start_time = time.time()\n",
    "    # while not my_locator.locate('after_battle_next'):\n",
    "    while not my_locator.locate('next'):\n",
    "        my_locator.locate_and_click('ok')\n",
    "        my_locator.locate_and_click('give_up')\n",
    "        my_locator.locate_and_click('yes')\n",
    "        time.sleep(1)\n",
    "    # after battle stage\n",
    "    print(\"after battle stage\")\n",
    "    elasped_time = time.time() - start_time\n",
    "    print(f\"elasped_time: {time.strftime('%M:%S', time.gmtime(elasped_time))}\")\n",
    "    while not my_locator.locate('organize'):\n",
    "        my_locator.locate_and_click('next')\n",
    "        # my_locator.locate_and_click('ok')\n",
    "        my_locator.locate_and_click('cancel')\n",
    "        my_locator.locate_and_click('go_back')"
   ]
  },
  {
   "cell_type": "code",
   "execution_count": 7,
   "metadata": {},
   "outputs": [
    {
     "name": "stdout",
     "output_type": "stream",
     "text": [
      "(1193, 655)\n",
      "None\n"
     ]
    }
   ],
   "source": [
    "print(my_locator.locate('sortie'))\n",
    "print(my_locator.locate_and_click('sortie'))"
   ]
  }
 ],
 "metadata": {
  "kernelspec": {
   "display_name": "py311",
   "language": "python",
   "name": "python3"
  },
  "language_info": {
   "codemirror_mode": {
    "name": "ipython",
    "version": 3
   },
   "file_extension": ".py",
   "mimetype": "text/x-python",
   "name": "python",
   "nbconvert_exporter": "python",
   "pygments_lexer": "ipython3",
   "version": "3.11.0"
  },
  "orig_nbformat": 4
 },
 "nbformat": 4,
 "nbformat_minor": 2
}
