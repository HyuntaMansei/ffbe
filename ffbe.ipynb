{
 "cells": [
  {
   "cell_type": "code",
   "execution_count": 7,
   "metadata": {},
   "outputs": [
    {
     "name": "stdout",
     "output_type": "stream",
     "text": [
      "[<ppadb.device.Device object at 0x0000020A648BDC10>]\n",
      "133038\n"
     ]
    }
   ],
   "source": [
    "import win32gui\n",
    "import win32con\n",
    "import time\n",
    "import locator\n",
    "import importlib\n",
    "importlib.reload(locator)\n",
    "\n",
    "from ppadb.client import Client as AdbClient\n",
    "#first one=62001\n",
    "#second one=62025\n",
    "my_client = AdbClient()\n",
    "print(my_client.devices())\n",
    "my_device = my_client.devices()[0]\n",
    "\n",
    "my_hwnd = win32gui.FindWindow(None, \"facebook\")\n",
    "print(my_hwnd)"
   ]
  },
  {
   "cell_type": "code",
   "execution_count": 5,
   "metadata": {},
   "outputs": [],
   "source": [
    "my_locator.locate('select_chapter')"
   ]
  },
  {
   "cell_type": "code",
   "execution_count": null,
   "metadata": {},
   "outputs": [],
   "source": [
    "# quest auto play\n",
    "import datetime\n",
    "device_type = 'nox_1920_1080'\n",
    "# device_type = 'nox_1280_720'\n",
    "if device_type == 'nox_1920_1080':\n",
    "    my_locator = locator.Locator(my_hwnd, './1920_1080/quest/')\n",
    "    my_locator.load_conf('nox_1920_1080')\n",
    "elif device_type == 'nox_1280_720':\n",
    "    my_locator = locator.Locator(my_hwnd, './1280_720/quest/')\n",
    "    my_locator.load_conf('nox_1280_720')\n",
    "elif device_type == 'android':\n",
    "    pass\n",
    "else:\n",
    "    pass\n",
    "my_locator.confidence=0.85\n",
    "my_locator.connect_click_method(my_device.input_tap)\n",
    "\n",
    "for cnt in range(100):\n",
    "    #퀘스트 자동 진행\n",
    "    print(f\"Starting quest automain. {cnt} times completed.\")\n",
    "    while not my_locator.locate('sortie'):\n",
    "        my_locator.locate_and_click('select_chapter', xy='top_quest')\n",
    "    ##skip 하기 누르기\n",
    "    print(\"Before battle\")\n",
    "    while my_locator.locate('auto') == None:\n",
    "        my_locator.locate_and_click('sortie')\n",
    "        my_locator.click('story_skip1')\n",
    "        time.sleep(2)\n",
    "        my_locator.click('story_skip2')\n",
    "    print(\"In battle stage\")\n",
    "    start_time = time.time()\n",
    "    my_locator.locate('next', trial_number=600)\n",
    "    print(\"Mission complete\")\n",
    "    time.sleep(10)\n",
    "    elasped_time = time.time() - start_time\n",
    "    print(f\"elasped_time: {time.strftime('%M:%S', time.gmtime(elasped_time))}\")\n",
    "    print(\"Until end_of_quest\")\n",
    "    while my_locator.locate('end_of_quest') == None:\n",
    "        my_locator.locate_and_click('next')\n",
    "        my_locator.locate_and_click('close')\n",
    "        my_locator.locate_and_click('later')\n",
    "        my_locator.locate_and_click('no_evaluate')\n",
    "    time.sleep(2)\n",
    "    print(\"The quest ended\")\n",
    "    time.sleep(10)\n",
    "    count = 0\n",
    "    print(f\"after batlle, until 'select chapter', repeating, ... story skip, count={count}\")\n",
    "    while my_locator.locate('select_chapter', trial_number=2) == None:\n",
    "        my_locator.locate_and_click('end_of_quest')\n",
    "        my_locator.locate_and_click('ok')\n",
    "        my_locator.locate_and_click('later')\n",
    "        my_locator.locate_and_click('close')\n",
    "        if not my_locator.locate('select_chapter'):\n",
    "            my_locator.click('story_skip1')\n",
    "            time.sleep(1)\n",
    "        if not my_locator.locate('select_chapter'):\n",
    "            my_locator.click('story_skip3')\n",
    "        count += 1\n",
    "        my_locator.locate_and_click('story')"
   ]
  },
  {
   "cell_type": "code",
   "execution_count": 8,
   "metadata": {},
   "outputs": [
    {
     "name": "stdout",
     "output_type": "stream",
     "text": [
      "Starting multi automation\n",
      "Before battle stage. completed: 0 times\n",
      "Trying to click sortie\n",
      "In battle stage\n"
     ]
    },
    {
     "ename": "KeyboardInterrupt",
     "evalue": "",
     "output_type": "error",
     "traceback": [
      "\u001b[1;31m---------------------------------------------------------------------------\u001b[0m",
      "\u001b[1;31mKeyboardInterrupt\u001b[0m                         Traceback (most recent call last)",
      "Cell \u001b[1;32mIn[8], line 47\u001b[0m\n\u001b[0;32m     45\u001b[0m \u001b[39m# while not my_locator.locate('after_battle_next'):\u001b[39;00m\n\u001b[0;32m     46\u001b[0m \u001b[39mwhile\u001b[39;00m \u001b[39mnot\u001b[39;00m my_locator\u001b[39m.\u001b[39mlocate(\u001b[39m'\u001b[39m\u001b[39mnext\u001b[39m\u001b[39m'\u001b[39m):\n\u001b[1;32m---> 47\u001b[0m     my_locator\u001b[39m.\u001b[39;49mlocate_and_click(\u001b[39m'\u001b[39;49m\u001b[39mok\u001b[39;49m\u001b[39m'\u001b[39;49m)\n\u001b[0;32m     48\u001b[0m     my_locator\u001b[39m.\u001b[39mlocate_and_click(\u001b[39m'\u001b[39m\u001b[39msurrender\u001b[39m\u001b[39m'\u001b[39m)\n\u001b[0;32m     49\u001b[0m     time\u001b[39m.\u001b[39msleep(\u001b[39m1\u001b[39m)\n",
      "File \u001b[1;32mc:\\Users\\jchoi\\Coding\\python\\ffbe\\locator.py:114\u001b[0m, in \u001b[0;36mLocator.locate_and_click\u001b[1;34m(self, img_name, xy, trial_number)\u001b[0m\n\u001b[0;32m    112\u001b[0m             \u001b[39mself\u001b[39m\u001b[39m.\u001b[39mclick(xy)\n\u001b[0;32m    113\u001b[0m             \u001b[39mreturn\u001b[39;00m loc\n\u001b[1;32m--> 114\u001b[0m     time\u001b[39m.\u001b[39msleep(\u001b[39m1\u001b[39m)\n\u001b[0;32m    115\u001b[0m \u001b[39mreturn\u001b[39;00m \u001b[39mNone\u001b[39;00m\n",
      "\u001b[1;31mKeyboardInterrupt\u001b[0m: "
     ]
    }
   ],
   "source": [
    "# multi auto play\n",
    "import datetime\n",
    "device_type = 'nox_1920_1080'\n",
    "rep_time = 20\n",
    "\n",
    "if device_type == 'nox_1920_1080':\n",
    "    my_locator = locator.Locator(my_hwnd, './1920_1080/multi/')\n",
    "    my_locator.load_conf('nox_1920_1080')\n",
    "elif device_type == 'nox_1280_720':\n",
    "    my_locator = locator.Locator(my_hwnd, './1280_720/multi/')\n",
    "    my_locator.load_conf('nox_1280_720')\n",
    "elif device_type == 'android':\n",
    "    pass\n",
    "else:\n",
    "    pass\n",
    "my_locator.confidence=0.95\n",
    "my_locator.connect_click_method(my_device.input_tap)\n",
    "\n",
    "print(\"Starting multi automation\")\n",
    "for cnt in range(rep_time):\n",
    "    print(f\"Before battle stage. completed: {cnt} times\")\n",
    "    before_battle_cnt = 0\n",
    "    print(\"Trial number of sortie: \", end='')\n",
    "    sortie_trial_cnt = 1\n",
    "    while not my_locator.locate('auto'):\n",
    "        # if True:\n",
    "        # if(not my_locator.locate('one_person')):\n",
    "        if(my_locator.locate('three_people') or my_locator.locate('four_people')):\n",
    "        # if(my_locator.locate('four_people')):\n",
    "            print(f\"{sortie_trial_cnt},\")\n",
    "            my_locator.locate_and_click('sortie')\n",
    "            sortie_trial_cnt += 1\n",
    "        my_locator.locate_and_click('sortie2')\n",
    "        my_locator.locate_and_click('not_auto')\n",
    "        my_locator.locate_and_click('ok')\n",
    "        before_battle_cnt += 1\n",
    "        if before_battle_cnt > 10:\n",
    "             while my_locator.locate('checking_the_result'):\n",
    "                my_locator.locate_and_click('checking_the_result')\n",
    "                my_locator.locate_and_click('expel')\n",
    "        if before_battle_cnt > 200:\n",
    "            print(\"Kicking out!\")            \n",
    "            while(my_locator.locate('kick_out')):\n",
    "                my_locator.locate_and_click('kick_out')\n",
    "                my_locator.locate_and_click('expel')\n",
    "    print(\"In battle stage\")\n",
    "    start_time = time.time()\n",
    "    # while not my_locator.locate('after_battle_next'):\n",
    "    while not my_locator.locate('next'):\n",
    "        my_locator.locate_and_click('ok')\n",
    "        my_locator.locate_and_click('surrender')\n",
    "        time.sleep(1)\n",
    "    # after battle stage\n",
    "    print(\"after battle stage\")\n",
    "    elasped_time = time.time() - start_time\n",
    "    print(f\"elasped_time: {time.strftime('%M:%S', time.gmtime(elasped_time))}\")\n",
    "    while not my_locator.locate('organize'):\n",
    "        my_locator.locate_and_click('next')\n",
    "        my_locator.locate_and_click('ok')\n",
    "        my_locator.locate_and_click('cancel')\n",
    "        my_locator.locate_and_click('go_back')"
   ]
  }
 ],
 "metadata": {
  "kernelspec": {
   "display_name": "py311",
   "language": "python",
   "name": "python3"
  },
  "language_info": {
   "codemirror_mode": {
    "name": "ipython",
    "version": 3
   },
   "file_extension": ".py",
   "mimetype": "text/x-python",
   "name": "python",
   "nbconvert_exporter": "python",
   "pygments_lexer": "ipython3",
   "version": "3.11.0"
  },
  "orig_nbformat": 4
 },
 "nbformat": 4,
 "nbformat_minor": 2
}
