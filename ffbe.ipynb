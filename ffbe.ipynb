{
 "cells": [
  {
   "cell_type": "code",
   "execution_count": 2,
   "metadata": {},
   "outputs": [
    {
     "name": "stdout",
     "output_type": "stream",
     "text": [
      "[<ppadb.device.Device object at 0x0000023932C8C0D0>]\n"
     ]
    }
   ],
   "source": [
    "import win32gui\n",
    "import win32con\n",
    "import time\n",
    "import automator\n",
    "import importlib\n",
    "importlib.reload(automator)\n",
    "\n",
    "from ppadb.client import Client as AdbClient\n",
    "#first one=62001\n",
    "#second one=62025\n",
    "my_client = AdbClient()\n",
    "print(my_client.devices())\n",
    "my_device = my_client.devices()[0]\n",
    "\n",
    "hwnd_hyuntamansei = win32gui.FindWindow(None, \"hyuntamansei\")\n",
    "hwnd_jchoi82kor = win32gui.FindWindow(None, \"jchoi82kor\")"
   ]
  },
  {
   "cell_type": "code",
   "execution_count": 4,
   "metadata": {},
   "outputs": [
    {
     "name": "stdout",
     "output_type": "stream",
     "text": [
      "selecting chapter\n",
      "selecting acompany\n",
      "clicking sortie\n",
      "after clicking sortie\n",
      "in battle stage\n",
      "Mission complete\n",
      "Until end_of_quest\n",
      "No such file: ./nox_1280_720_images/close.png\n",
      "Until end_of_quest\n",
      "No such file: ./nox_1280_720_images/close.png\n",
      "Until end_of_quest\n",
      "No such file: ./nox_1280_720_images/close.png\n",
      "Until end_of_quest\n",
      "No such file: ./nox_1280_720_images/close.png\n",
      "Until end_of_quest\n",
      "No such file: ./nox_1280_720_images/close.png\n",
      "Until end_of_quest\n",
      "No such file: ./nox_1280_720_images/close.png\n",
      "Until end_of_quest\n",
      "No such file: ./nox_1280_720_images/close.png\n",
      "Until end_of_quest\n",
      "No such file: ./nox_1280_720_images/close.png\n",
      "Until end_of_quest\n",
      "No such file: ./nox_1280_720_images/close.png\n",
      "Until end_of_quest\n",
      "No such file: ./nox_1280_720_images/close.png\n",
      "Until end_of_quest\n",
      "No such file: ./nox_1280_720_images/close.png\n",
      "Until end_of_quest\n",
      "No such file: ./nox_1280_720_images/close.png\n",
      "Until end_of_quest\n",
      "No such file: ./nox_1280_720_images/close.png\n",
      "Until end_of_quest\n",
      "No such file: ./nox_1280_720_images/close.png\n",
      "Until end_of_quest\n",
      "No such file: ./nox_1280_720_images/close.png\n",
      "Until end_of_quest\n",
      "No such file: ./nox_1280_720_images/close.png\n",
      "Until end_of_quest\n",
      "No such file: ./nox_1280_720_images/close.png\n",
      "Until end_of_quest\n",
      "No such file: ./nox_1280_720_images/close.png\n",
      "Until end_of_quest\n",
      "No such file: ./nox_1280_720_images/close.png\n",
      "Until end_of_quest\n",
      "No such file: ./nox_1280_720_images/close.png\n",
      "Until end_of_quest\n",
      "No such file: ./nox_1280_720_images/close.png\n",
      "Until end_of_quest\n",
      "No such file: ./nox_1280_720_images/close.png\n",
      "Until end_of_quest\n",
      "No such file: ./nox_1280_720_images/close.png\n",
      "Until end_of_quest\n",
      "No such file: ./nox_1280_720_images/close.png\n",
      "Until end_of_quest\n",
      "No such file: ./nox_1280_720_images/close.png\n",
      "Until end_of_quest\n",
      "No such file: ./nox_1280_720_images/close.png\n",
      "Until end_of_quest\n",
      "No such file: ./nox_1280_720_images/close.png\n",
      "Until end_of_quest\n",
      "No such file: ./nox_1280_720_images/close.png\n",
      "Until end_of_quest\n",
      "No such file: ./nox_1280_720_images/close.png\n",
      "Until end_of_quest\n",
      "No such file: ./nox_1280_720_images/close.png\n",
      "Until end_of_quest\n",
      "No such file: ./nox_1280_720_images/close.png\n",
      "Until end_of_quest\n",
      "No such file: ./nox_1280_720_images/close.png\n",
      "Until end_of_quest\n",
      "No such file: ./nox_1280_720_images/close.png\n",
      "Until end_of_quest\n",
      "No such file: ./nox_1280_720_images/close.png\n",
      "Until end_of_quest\n",
      "No such file: ./nox_1280_720_images/close.png\n",
      "Until end_of_quest\n",
      "No such file: ./nox_1280_720_images/close.png\n",
      "Until end_of_quest\n",
      "No such file: ./nox_1280_720_images/close.png\n",
      "Until end_of_quest\n",
      "No such file: ./nox_1280_720_images/close.png\n",
      "Until end_of_quest\n",
      "No such file: ./nox_1280_720_images/close.png\n",
      "Until end_of_quest\n",
      "No such file: ./nox_1280_720_images/close.png\n",
      "Until end_of_quest\n",
      "No such file: ./nox_1280_720_images/close.png\n",
      "Until end_of_quest\n",
      "No such file: ./nox_1280_720_images/close.png\n",
      "Until end_of_quest\n",
      "No such file: ./nox_1280_720_images/close.png\n",
      "Until end_of_quest\n",
      "No such file: ./nox_1280_720_images/close.png\n",
      "Until end_of_quest\n",
      "No such file: ./nox_1280_720_images/close.png\n",
      "Until end_of_quest\n",
      "No such file: ./nox_1280_720_images/close.png\n",
      "The quest ended\n",
      "Completed: 1 times\n",
      "selecting chapter\n",
      "selecting acompany\n",
      "clicking sortie\n",
      "after clicking sortie\n",
      "in battle stage\n",
      "Mission complete\n",
      "Until end_of_quest\n",
      "No such file: ./nox_1280_720_images/close.png\n",
      "Until end_of_quest\n",
      "No such file: ./nox_1280_720_images/close.png\n",
      "Until end_of_quest\n",
      "No such file: ./nox_1280_720_images/close.png\n",
      "Until end_of_quest\n",
      "No such file: ./nox_1280_720_images/close.png\n",
      "Until end_of_quest\n",
      "No such file: ./nox_1280_720_images/close.png\n",
      "Until end_of_quest\n",
      "No such file: ./nox_1280_720_images/close.png\n",
      "Until end_of_quest\n",
      "No such file: ./nox_1280_720_images/close.png\n",
      "Until end_of_quest\n",
      "No such file: ./nox_1280_720_images/close.png\n",
      "Until end_of_quest\n",
      "No such file: ./nox_1280_720_images/close.png\n"
     ]
    }
   ],
   "source": [
    "my_automator = automator.Automator(hwnd_jchoi82kor, './nox_1280_720_images/')\n",
    "# nox_hyuntamansei = automator.Automator(hwnd_hyuntamansei, './bluestack_images/')\n",
    "my_automator.confidence=0.8\n",
    "my_automator.load_conf('nox_1280_720')\n",
    "my_automator.read_coor('./coor2.ini')\n",
    "my_automator.read_coor()\n",
    "my_automator.connect_click_method(my_device.input_tap)\n",
    "\n",
    "for cnt in range(100):\n",
    "    #퀘스트 자동 진행\n",
    "    print(\"selecting chapter\")\n",
    "    while my_automator.locate('select_chapter') == None:\n",
    "        my_automator.locate_and_click('story')\n",
    "        time.sleep(1)\n",
    "    my_automator.locate_and_click('select_chapter', xy='top_quest', trial_number=5)\n",
    "    print(\"selecting acompany\")\n",
    "    while my_automator.locate('acom_sephiroth', trial_number=3) == None:\n",
    "        my_automator.locate_and_click('acompany')\n",
    "        my_automator.locate_and_click('sephiroth')\n",
    "    my_automator.locate_and_click('acom_sephiroth')\n",
    "    print(\"clicking sortie\")\n",
    "    my_automator.wait_and_click('sortie')\n",
    "    print(\"after clicking sortie\")\n",
    "    time.sleep(15)\n",
    "    ##skip 하기 누르기\n",
    "    while my_automator.locate('auto') == None:\n",
    "        my_automator.locate_and_click('sortie')\n",
    "        print(\"before battle, story skip\")\n",
    "        my_automator.click('story_skip1')\n",
    "        time.sleep(2)\n",
    "        my_automator.click('story_skip2')\n",
    "        time.sleep(5)\n",
    "    print(\"in battle stage\")\n",
    "    my_automator.locate('next', trial_number=600)\n",
    "    print(\"Mission complete\")\n",
    "    time.sleep(10)\n",
    "    while my_automator.locate_and_click('end_of_quest') == None:\n",
    "        print(\"Until end_of_quest\")\n",
    "        my_automator.locate_and_click('next')\n",
    "        # my_automator.locate_and_click('x')\n",
    "        my_automator.locate_and_click('next')\n",
    "        # my_automator.locate_and_click('x')\n",
    "        my_automator.locate_and_click('later')\n",
    "        my_automator.locate_and_click('close')\n",
    "    time.sleep(2)\n",
    "    my_automator.locate_and_click('end_of_quest')\n",
    "    print(\"The quest ended\")\n",
    "    time.sleep(10)\n",
    "    count = 0\n",
    "    while my_automator.locate('select_chapter', trial_number=2) == None:\n",
    "        print(f\"after batlle, until 'select chapter', repeating, ... story skip, count={count}\")\n",
    "        my_automator.locate_and_click('ok')\n",
    "        my_automator.locate_and_click('later')\n",
    "        my_automator.locate_and_click('close')\n",
    "        if not my_automator.locate('select_chapter'):\n",
    "            my_automator.click('story_skip1')\n",
    "            time.sleep(1)\n",
    "        if not my_automator.locate('select_chapter'):\n",
    "            my_automator.click('story_skip2')\n",
    "        count += 1\n",
    "        my_automator.locate_and_click('story')\n",
    "    print(f\"Completed: {cnt+1} times\")"
   ]
  },
  {
   "cell_type": "code",
   "execution_count": 15,
   "metadata": {},
   "outputs": [
    {
     "name": "stdout",
     "output_type": "stream",
     "text": [
      "(-2000, 213)\n",
      "(1905, 1107)\n",
      "Locating: Box(left=1566, top=984, width=102, height=57), center:(1617, 1012)\n",
      "Saving sc.png\n",
      "clicking as dev xy: (1617, 985)\n"
     ]
    },
    {
     "data": {
      "text/plain": [
       "(1617, 985)"
      ]
     },
     "execution_count": 15,
     "metadata": {},
     "output_type": "execute_result"
    }
   ],
   "source": [
    "nox_hyuntamansei = automator.Automator(hwnd_hyuntamansei, './nox_images/')\n",
    "# nox_hyuntamansei = automator.Automator(hwnd_hyuntamansei, './bluestack_images/')\n",
    "my_automator.confidence=0.95\n",
    "my_automator.load_conf('nox')\n",
    "my_automator.read_coor('./coor.ini')\n",
    "my_automator.connect_click_method(my_device.input_tap)\n",
    "\n",
    "# my_automator.locate('sortie')\n",
    "my_automator.locate_and_click('sortie')"
   ]
  },
  {
   "cell_type": "code",
   "execution_count": 10,
   "metadata": {},
   "outputs": [
    {
     "name": "stdout",
     "output_type": "stream",
     "text": [
      "(0, 0, 1905, 1107)\n",
      "(-2000, 213, -95, 1320)\n"
     ]
    }
   ],
   "source": []
  },
  {
   "cell_type": "code",
   "execution_count": 22,
   "metadata": {},
   "outputs": [
    {
     "name": "stdout",
     "output_type": "stream",
     "text": [
      "clicking as dev xy: (1853, 166)\n",
      "clicking as dev xy: (1818, 72)\n"
     ]
    },
    {
     "data": {
      "text/plain": [
       "(1818, 72)"
      ]
     },
     "execution_count": 22,
     "metadata": {},
     "output_type": "execute_result"
    }
   ],
   "source": [
    "my_automator.read_coor()\n",
    "my_automator.click('story_skip1')\n",
    "time.sleep(1)\n",
    "my_automator.click('story_skip2')"
   ]
  }
 ],
 "metadata": {
  "kernelspec": {
   "display_name": "py311",
   "language": "python",
   "name": "python3"
  },
  "language_info": {
   "codemirror_mode": {
    "name": "ipython",
    "version": 3
   },
   "file_extension": ".py",
   "mimetype": "text/x-python",
   "name": "python",
   "nbconvert_exporter": "python",
   "pygments_lexer": "ipython3",
   "version": "3.11.0"
  },
  "orig_nbformat": 4
 },
 "nbformat": 4,
 "nbformat_minor": 2
}
