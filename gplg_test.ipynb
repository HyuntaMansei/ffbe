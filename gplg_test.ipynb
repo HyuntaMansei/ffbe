{
 "cells": [
  {
   "cell_type": "code",
   "execution_count": 9,
   "metadata": {},
   "outputs": [
    {
     "name": "stdout",
     "output_type": "stream",
     "text": [
      "Process ID: 6352\t Process Name: C:\\Windows\\explorer.exe\t HWND: 65780\t Window Title: \n",
      "Process ID: 13460\t Process Name: C:\\Users\\365info2\\AppData\\Local\\Programs\\Microsoft VS Code\\Code.exe\t HWND: 199056\t Window Title: ● gplg_test.ipynb - ffbe - Visual Studio Code\n",
      "Process ID: 14100\t Process Name: C:\\Program Files\\Google\\Chrome\\Application\\chrome.exe\t HWND: 460924\t Window Title: Find Process Names & HWNDs - Chrome\n",
      "Process ID: 15156\t Process Name: C:\\Program Files\\AhnLab\\V3Lite40\\v3lite4exp.exe\t HWND: 1182086\t Window Title: popup - AhnLab V3 Lite\n",
      "Process ID: 11544\t Process Name: C:\\Program Files\\Google\\Play Games\\current\\emulator\\crosvm.exe\t HWND: 198686\t Window Title: FINAL FANTASY BE:WOTV\n",
      "Process ID: 6352\t Process Name: C:\\Windows\\explorer.exe\t HWND: 132936\t Window Title: 다운로드\n",
      "Process ID: 1992\t Process Name: C:\\Users\\365info2\\anaconda3\\envs\\py311\\python.exe\t HWND: 67386\t Window Title: for 레오니스\n",
      "Process ID: 6352\t Process Name: C:\\Windows\\explorer.exe\t HWND: 262382\t Window Title: bat\n",
      "Process ID: 6352\t Process Name: C:\\Windows\\explorer.exe\t HWND: 197052\t Window Title: \n",
      "Process ID: 9300\t Process Name: C:\\Program Files (x86)\\PicPick\\picpick.exe\t HWND: 132200\t Window Title: \n",
      "Process ID: 9912\t Process Name: C:\\Windows\\SystemApps\\MicrosoftWindows.Client.CBS_cw5n1h2txyewy\\TextInputHost.exe\t HWND: 66304\t Window Title: Microsoft Text Input Application\n",
      "Process ID: 6352\t Process Name: C:\\Windows\\explorer.exe\t HWND: 198278\t Window Title: \n",
      "Process ID: 6352\t Process Name: C:\\Windows\\explorer.exe\t HWND: 65988\t Window Title: \n",
      "Process ID: 6352\t Process Name: C:\\Windows\\explorer.exe\t HWND: 65954\t Window Title: \n",
      "Process ID: 6352\t Process Name: C:\\Windows\\explorer.exe\t HWND: 65950\t Window Title: \n",
      "Process ID: 8904\t Process Name: C:\\Windows\\System32\\cmd.exe\t HWND: 329496\t Window Title: C:\\Windows\\system32\\cmd.exe\n",
      "Process ID: 13144\t Process Name: C:\\Windows\\System32\\cmd.exe\t HWND: 394940\t Window Title: C:\\Windows\\system32\\cmd.exe\n",
      "Process ID: 1992\t Process Name: C:\\Users\\365info2\\anaconda3\\envs\\py311\\python.exe\t HWND: 67394\t Window Title: Log\n",
      "Process ID: 1992\t Process Name: C:\\Users\\365info2\\anaconda3\\envs\\py311\\python.exe\t HWND: 67396\t Window Title: Debug\n",
      "Process ID: 1992\t Process Name: C:\\Users\\365info2\\anaconda3\\envs\\py311\\python.exe\t HWND: 67398\t Window Title: Error\n",
      "Process ID: 9700\t Process Name: C:\\Program Files\\Google\\Play Games\\current\\client\\client.exe\t HWND: 198316\t Window Title: Google Play 게임즈 베타\n",
      "Process ID: 15156\t Process Name: C:\\Program Files\\AhnLab\\V3Lite40\\v3lite4exp.exe\t HWND: 264608\t Window Title: \n",
      "Process ID: 6352\t Process Name: C:\\Windows\\explorer.exe\t HWND: 65898\t Window Title: Program Manager\n"
     ]
    }
   ],
   "source": [
    "# 실행중인(visible) 윈도우의 title, hwnd, process id 알아내기\n",
    "import win32gui\n",
    "import psutil\n",
    "import win32process\n",
    "\n",
    "def get_visible_windows():\n",
    "    def is_window_visible(hwnd):\n",
    "        return win32gui.IsWindowVisible(hwnd)\n",
    "\n",
    "    hwnds = []\n",
    "    win32gui.EnumWindows(lambda hwnd, _: hwnds.append(hwnd), None)\n",
    "    return [hwnd for hwnd in hwnds if is_window_visible(hwnd)]\n",
    "\n",
    "def get_window_text(hwnd):\n",
    "    return win32gui.GetWindowText(hwnd)\n",
    "\n",
    "def get_process_id(hwnd):\n",
    "    _, pid = win32process.GetWindowThreadProcessId(hwnd)\n",
    "    return pid\n",
    "\n",
    "def get_process_info(hwnd):\n",
    "    try:\n",
    "        pid = get_process_id(hwnd)\n",
    "        process = psutil.Process(pid)\n",
    "        exe_name = process.exe()\n",
    "        window_title = get_window_text(hwnd)\n",
    "        return pid, exe_name, hwnd, window_title\n",
    "    except psutil.NoSuchProcess:\n",
    "        return None\n",
    "\n",
    "def main():\n",
    "    hwnds = get_visible_windows()\n",
    "    processes = [get_process_info(hwnd) for hwnd in hwnds if get_process_info(hwnd)]\n",
    "\n",
    "    for pid, name, hwnd, window_title in processes:\n",
    "        print(f\"Process ID: {pid}\\t Process Name: {name}\\t HWND: {hwnd}\\t Window Title: {window_title}\")\n",
    "\n",
    "if __name__ == \"__main__\":\n",
    "    main()"
   ]
  },
  {
   "cell_type": "code",
   "execution_count": 50,
   "metadata": {},
   "outputs": [],
   "source": [
    "import win32gui\n",
    "import win32con\n",
    "\n",
    "def set_client_size(hwnd, width, height):\n",
    "    # The parameters for SetWindowPos are as follows:\n",
    "    # hWnd, hWndInsertAfter, X, Y, cx, cy, uFlags\n",
    "    win32gui.SetWindowPos(hwnd, win32con.HWND_TOP, 0, 0, width, height, win32con.SWP_NOMOVE | win32con.SWP_NOZORDER | win32con.SWP_NOOWNERZORDER)\n",
    "\n",
    "\n",
    "# Example usage:\n",
    "if __name__ == \"__main__\":\n",
    "    YOUR_HWND = 198686;\n",
    "    # Replace 'YOUR_HWND' with the actual HWND of the window you want to resize.\n",
    "    hwnd_to_resize = YOUR_HWND\n",
    "    new_width = 1600\n",
    "    new_height = 720\n",
    "\n",
    "    set_window_size(hwnd_to_resize, new_width, new_height)"
   ]
  },
  {
   "cell_type": "code",
   "execution_count": 58,
   "metadata": {},
   "outputs": [],
   "source": [
    "set_window_size(YOUR_HWND, 1300, 750)\n",
    "# set_window_size(YOUR_HWND, 1288, 739)"
   ]
  },
  {
   "cell_type": "code",
   "execution_count": 60,
   "metadata": {},
   "outputs": [
    {
     "name": "stdout",
     "output_type": "stream",
     "text": [
      "(525, 96, 1787, 835)\n",
      "1262 739\n"
     ]
    }
   ],
   "source": [
    "res = win32gui.GetWindowRect(YOUR_HWND)\n",
    "x1, y1, x2, y2 = res\n",
    "width = x2-x1\n",
    "height = y2-y1\n",
    "print(res)\n",
    "print(width, height)"
   ]
  },
  {
   "cell_type": "code",
   "execution_count": 34,
   "metadata": {},
   "outputs": [
    {
     "data": {
      "text/plain": [
       "'D:\\\\Coding\\\\Python\\\\ffbe\\\\1280_720\\\\images/'"
      ]
     },
     "execution_count": 34,
     "metadata": {},
     "output_type": "execute_result"
    }
   ],
   "source": [
    "base_path = r\"D:\\Coding\\Python\\ffbe\\1280_720\\images/\"\n",
    "base_path"
   ]
  },
  {
   "cell_type": "code",
   "execution_count": 46,
   "metadata": {},
   "outputs": [
    {
     "name": "stdout",
     "output_type": "stream",
     "text": [
      "None\n"
     ]
    }
   ],
   "source": [
    "import pyautogui as py\n",
    "image_name = 'another_world'\n",
    "# image_name = 'test'\n",
    "image_path = base_path+image_name+'.png'\n",
    "print(py.locateCenterOnScreen(image_path))"
   ]
  }
 ],
 "metadata": {
  "kernelspec": {
   "display_name": "py311",
   "language": "python",
   "name": "python3"
  },
  "language_info": {
   "codemirror_mode": {
    "name": "ipython",
    "version": 3
   },
   "file_extension": ".py",
   "mimetype": "text/x-python",
   "name": "python",
   "nbconvert_exporter": "python",
   "pygments_lexer": "ipython3",
   "version": "3.11.0"
  },
  "orig_nbformat": 4
 },
 "nbformat": 4,
 "nbformat_minor": 2
}
