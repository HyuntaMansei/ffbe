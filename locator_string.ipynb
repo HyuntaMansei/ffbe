{
 "cells": [
  {
   "cell_type": "code",
   "execution_count": 1,
   "metadata": {},
   "outputs": [],
   "source": [
    "import re\n",
    "import os"
   ]
  },
  {
   "cell_type": "code",
   "execution_count": 17,
   "metadata": {},
   "outputs": [
    {
     "name": "stdout",
     "output_type": "stream",
     "text": [
      "when_working?\n"
     ]
    }
   ],
   "source": [
    "sample = \"target@when_working?#0.99\"\n",
    "p1 = re.compile(\"[@#][\\w?]*\")\n",
    "p2 = re.compile(\"#[\\w\\d.]*\")\n",
    "mat = re.search(p1, sample)\n",
    "if mat:\n",
    "    print(mat.group()[1:])"
   ]
  },
  {
   "cell_type": "code",
   "execution_count": 25,
   "metadata": {},
   "outputs": [],
   "source": [
    "t_str = \"target_2@when#0.99\"\n",
    "p_target = re.compile(\"^\\w*\")\n",
    "p_when = re.compile(\"@\\w*\")\n",
    "p_confidence = re.compile(\"#[\\w.]*\")\n",
    "patterns = [p_target, p_when, p_confidence]\n",
    "try:\n",
    "    target = re.search(p_target, t_str).group()\n",
    "    mat = re.search(p_when, t_str)\n",
    "    if mat:\n",
    "        when = mat.group()[1:]\n",
    "    mat = re.search(p_confidence, t_str)\n",
    "    if mat:\n",
    "        confidence = mat.group()[1:]\n",
    "except Exception as e:\n",
    "    print(f\"Exception [{e}] in t_str:{t_str}\")"
   ]
  },
  {
   "cell_type": "code",
   "execution_count": 26,
   "metadata": {},
   "outputs": [
    {
     "name": "stdout",
     "output_type": "stream",
     "text": [
      "target_2 when 0.99\n"
     ]
    }
   ],
   "source": [
    "print(target, when, confidence)"
   ]
  }
 ],
 "metadata": {
  "kernelspec": {
   "display_name": "py311",
   "language": "python",
   "name": "python3"
  },
  "language_info": {
   "codemirror_mode": {
    "name": "ipython",
    "version": 3
   },
   "file_extension": ".py",
   "mimetype": "text/x-python",
   "name": "python",
   "nbconvert_exporter": "python",
   "pygments_lexer": "ipython3",
   "version": "3.11.0"
  },
  "orig_nbformat": 4
 },
 "nbformat": 4,
 "nbformat_minor": 2
}
